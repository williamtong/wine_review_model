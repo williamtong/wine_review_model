{
 "cells": [
  {
   "cell_type": "code",
   "execution_count": 1,
   "id": "e2efed51-9480-49c7-befe-a40e7f247064",
   "metadata": {},
   "outputs": [],
   "source": [
    "import pandas as pd\n",
    "pd.set_option('display.max_colwidth', None)\n",
    "\n",
    "import numpy as np\n",
    "import torch\n",
    "\n",
    "import gzip\n",
    "import os\n",
    "import pickle\n",
    "\n",
    "import importlib\n",
    "import matplotlib.pyplot as plt\n",
    "\n",
    "from sklearn.metrics.pairwise import cosine_similarity"
   ]
  },
  {
   "cell_type": "code",
   "execution_count": 2,
   "id": "d4006876-ccf8-4739-a062-48850e573d44",
   "metadata": {},
   "outputs": [
    {
     "name": "stderr",
     "output_type": "stream",
     "text": [
      "[nltk_data] Error loading stopwords: <urlopen error [SSL:\n",
      "[nltk_data]     CERTIFICATE_VERIFY_FAILED] certificate verify failed:\n",
      "[nltk_data]     unable to get local issuer certificate (_ssl.c:1000)>\n"
     ]
    }
   ],
   "source": [
    "import nltk\n",
    "from nltk.corpus import stopwords\n",
    "nltk.download('stopwords')\n",
    "import os\n",
    "os.chdir('../../price_model/')\n"
   ]
  },
  {
   "cell_type": "code",
   "execution_count": 3,
   "id": "5a06beec-573c-430c-a7dd-5f1c3fa7b233",
   "metadata": {},
   "outputs": [
    {
     "name": "stderr",
     "output_type": "stream",
     "text": [
      "/Users/willtong/Library/Caches/pypoetry/virtualenvs/wine-libraries-PLl6gzSz-py3.12/lib/python3.12/site-packages/sentence_transformers/cross_encoder/CrossEncoder.py:11: TqdmExperimentalWarning: Using `tqdm.autonotebook.tqdm` in notebook mode. Use `tqdm.tqdm` instead to force console mode (e.g. in jupyter console)\n",
      "  from tqdm.autonotebook import tqdm, trange\n"
     ]
    }
   ],
   "source": [
    "# Sentence Transformer from Huggingface library\n",
    "from sentence_transformers import SentenceTransformer \n"
   ]
  },
  {
   "cell_type": "markdown",
   "id": "d71c47cc-ba18-4b54-b710-750cdbc74453",
   "metadata": {
    "scrolled": true
   },
   "source": [
    "## Load data set"
   ]
  },
  {
   "cell_type": "code",
   "execution_count": 4,
   "id": "811a51d3-419a-4391-8d92-ace82e83c556",
   "metadata": {},
   "outputs": [
    {
     "data": {
      "text/plain": [
       "(111593, 15)"
      ]
     },
     "execution_count": 4,
     "metadata": {},
     "output_type": "execute_result"
    }
   ],
   "source": [
    "df = pd.read_json(\"../data/deduped_mod_winemag-data-130k-v2.json\")\n",
    "df.shape"
   ]
  },
  {
   "cell_type": "markdown",
   "id": "157925d2-2a71-4cfc-b0da-25602c11b10d",
   "metadata": {},
   "source": [
    "## Here I augment the rest of the wine information into the the text.  No need to worry about grammatically correctness or punctuation."
   ]
  },
  {
   "cell_type": "code",
   "execution_count": 5,
   "id": "7eb4f0c6-af58-421b-a3c1-078c855f1332",
   "metadata": {},
   "outputs": [],
   "source": [
    "\n",
    "\n",
    "info_features = ['title',  'designation', 'variety', 'region-1',\n",
    "       'region-2', 'province', 'country', 'winery']\n",
    "df.fillna(\" \", inplace = True)\n",
    "df[\"merged_info_text\"] = df[['description', \"merged_info_text\"]].apply(lambda info_features: ' '.join(list(info_features)), axis = 1)\n",
    "df[\"len\"] = df[\"merged_info_text\"].apply(lambda text: len(text.split(\" \")))\n",
    "\n",
    "\n",
    "df.drop(info_features, axis = 1, inplace = True)"
   ]
  },
  {
   "cell_type": "code",
   "execution_count": 6,
   "id": "852409ad-ed66-48a4-9011-3c8bdfd06b7e",
   "metadata": {},
   "outputs": [
    {
     "data": {
      "text/html": [
       "<div>\n",
       "<style scoped>\n",
       "    .dataframe tbody tr th:only-of-type {\n",
       "        vertical-align: middle;\n",
       "    }\n",
       "\n",
       "    .dataframe tbody tr th {\n",
       "        vertical-align: top;\n",
       "    }\n",
       "\n",
       "    .dataframe thead th {\n",
       "        text-align: right;\n",
       "    }\n",
       "</style>\n",
       "<table border=\"1\" class=\"dataframe\">\n",
       "  <thead>\n",
       "    <tr style=\"text-align: right;\">\n",
       "      <th></th>\n",
       "      <th>points</th>\n",
       "      <th>description</th>\n",
       "      <th>taster-name</th>\n",
       "      <th>taster-twitter-handle</th>\n",
       "      <th>price</th>\n",
       "      <th>merged_info_text</th>\n",
       "      <th>len</th>\n",
       "    </tr>\n",
       "  </thead>\n",
       "  <tbody>\n",
       "    <tr>\n",
       "      <th>1</th>\n",
       "      <td>87</td>\n",
       "      <td>This is ripe and fruity, a wine that is smooth while still structured. Firm tannins are filled out with juicy red berry fruits and freshened with acidity. It's  already drinkable, although it will certainly be better from 2016.</td>\n",
       "      <td>Roger Voss</td>\n",
       "      <td>@vossroger</td>\n",
       "      <td>15</td>\n",
       "      <td>This is ripe and fruity, a wine that is smooth while still structured. Firm tannins are filled out with juicy red berry fruits and freshened with acidity. It's  already drinkable, although it will certainly be better from 2016. This ripe fruity, wine smooth still structured. Firm tannins filled juicy red berry fruits freshened acidity. It's already drinkable, although certainly better 2016. Quinta Douro (Douro) Portugal Red 2011 Avidagos Portuguese</td>\n",
       "      <td>70</td>\n",
       "    </tr>\n",
       "    <tr>\n",
       "      <th>2</th>\n",
       "      <td>87</td>\n",
       "      <td>Tart and snappy, the flavors of lime flesh and rind dominate. Some green pineapple pokes through, with crisp acidity underscoring the flavors. The wine was all stainless-steel fermented.</td>\n",
       "      <td>Paul Gregutt</td>\n",
       "      <td>@paulgwine</td>\n",
       "      <td>14</td>\n",
       "      <td>Tart and snappy, the flavors of lime flesh and rind dominate. Some green pineapple pokes through, with crisp acidity underscoring the flavors. The wine was all stainless-steel fermented. Tart snappy, flavors lime flesh rind dominate. Some green pineapple pokes through, crisp acidity underscoring flavors. The wine stainless-steel fermented. Pinot (Willamette Valley 2013 US Rainstorm Gris Oregon Willamette Valley)</td>\n",
       "      <td>58</td>\n",
       "    </tr>\n",
       "    <tr>\n",
       "      <th>3</th>\n",
       "      <td>87</td>\n",
       "      <td>Pineapple rind, lemon pith and orange blossom start off the aromas. The palate is a bit more opulent, with notes of honey-drizzled guava and mango giving way to a slightly astringent, semidry finish.</td>\n",
       "      <td>Alexander Peartree</td>\n",
       "      <td></td>\n",
       "      <td>13</td>\n",
       "      <td>Pineapple rind, lemon pith and orange blossom start off the aromas. The palate is a bit more opulent, with notes of honey-drizzled guava and mango giving way to a slightly astringent, semidry finish. Pineapple rind, lemon pith orange blossom start aromas. The palate bit opulent, notes honey-drizzled guava mango giving way slightly astringent, semidry finish. Shore) St. Shore 2013 Riesling US Lake Harvest Late Michigan Reserve (Lake Julian</td>\n",
       "      <td>68</td>\n",
       "    </tr>\n",
       "    <tr>\n",
       "      <th>4</th>\n",
       "      <td>87</td>\n",
       "      <td>Much like the regular bottling from 2012, this comes across as rather rough and tannic, with rustic, earthy, herbal characteristics. Nonetheless, if you think of it as a pleasantly unfussy country wine, it's a good companion to a hearty winter stew.</td>\n",
       "      <td>Paul Gregutt</td>\n",
       "      <td>@paulgwine</td>\n",
       "      <td>65</td>\n",
       "      <td>Much like the regular bottling from 2012, this comes across as rather rough and tannic, with rustic, earthy, herbal characteristics. Nonetheless, if you think of it as a pleasantly unfussy country wine, it's a good companion to a hearty winter stew. Much like regular bottling 2012, comes across rather rough tannic, rustic, earthy, herbal characteristics. Nonetheless, think pleasantly unfussy country wine, good companion hearty winter stew. Pinot 2012 (Willamette Block Vintner's Valley Sweet Cheeks Willamette US Noir Oregon Child Reserve Wild Valley)</td>\n",
       "      <td>82</td>\n",
       "    </tr>\n",
       "    <tr>\n",
       "      <th>5</th>\n",
       "      <td>87</td>\n",
       "      <td>Blackberry and raspberry aromas show a typical Navarran whiff of green herbs and, in this case, horseradish. In the mouth, this is fairly full bodied, with tomatoey acidity. Spicy, herbal flavors complement dark plum fruit, while the finish is fresh but grabby.</td>\n",
       "      <td>Michael Schachner</td>\n",
       "      <td>@wineschach</td>\n",
       "      <td>15</td>\n",
       "      <td>Blackberry and raspberry aromas show a typical Navarran whiff of green herbs and, in this case, horseradish. In the mouth, this is fairly full bodied, with tomatoey acidity. Spicy, herbal flavors complement dark plum fruit, while the finish is fresh but grabby. Blackberry raspberry aromas show typical Navarran whiff green herbs and, case, horseradish. In mouth, fairly full bodied, tomatoey acidity. Spicy, herbal flavors complement dark plum fruit, finish fresh grabby. (Navarra) 2011 Tandem Northern Spain Ars Tempranillo-Merlot Vitro In Navarra</td>\n",
       "      <td>81</td>\n",
       "    </tr>\n",
       "    <tr>\n",
       "      <th>...</th>\n",
       "      <td>...</td>\n",
       "      <td>...</td>\n",
       "      <td>...</td>\n",
       "      <td>...</td>\n",
       "      <td>...</td>\n",
       "      <td>...</td>\n",
       "      <td>...</td>\n",
       "    </tr>\n",
       "    <tr>\n",
       "      <th>129966</th>\n",
       "      <td>90</td>\n",
       "      <td>Notes of honeysuckle and cantaloupe sweeten this deliciously feather-light spätlese. It's intensely juicy, quenching the palate with streams of tart tangerine and grapefruit acidity, yet wraps up with a kiss of honey and peach.</td>\n",
       "      <td>Anna Lee C. Iijima</td>\n",
       "      <td></td>\n",
       "      <td>28</td>\n",
       "      <td>Notes of honeysuckle and cantaloupe sweeten this deliciously feather-light spätlese. It's intensely juicy, quenching the palate with streams of tart tangerine and grapefruit acidity, yet wraps up with a kiss of honey and peach. Notes honeysuckle cantaloupe sweeten deliciously feather-light spätlese. It's intensely juicy, quenching palate streams tart tangerine grapefruit acidity, yet wraps kiss honey peach. Müller-Burggraef) Juffer-Sonnenuhr Mosel (Erben H. 2013 Spätlese Riesling Dr. Germany Brauneberger Thanisch (Mosel)</td>\n",
       "      <td>69</td>\n",
       "    </tr>\n",
       "    <tr>\n",
       "      <th>129967</th>\n",
       "      <td>90</td>\n",
       "      <td>Citation is given as much as a decade of bottle age prior to release, which means it is pre-cellared and drinking at its peak. Baked cherry, cocoa and coconut flavors combine gracefully, with soft, secondary fruit compote highlights.</td>\n",
       "      <td>Paul Gregutt</td>\n",
       "      <td>@paulgwine</td>\n",
       "      <td>75</td>\n",
       "      <td>Citation is given as much as a decade of bottle age prior to release, which means it is pre-cellared and drinking at its peak. Baked cherry, cocoa and coconut flavors combine gracefully, with soft, secondary fruit compote highlights. Citation given much decade bottle age prior release, means pre-cellared drinking peak. Baked cherry, cocoa coconut flavors combine gracefully, soft, secondary fruit compote highlights. Pinot Citation Other US Noir Oregon (Oregon) 2004</td>\n",
       "      <td>70</td>\n",
       "    </tr>\n",
       "    <tr>\n",
       "      <th>129968</th>\n",
       "      <td>90</td>\n",
       "      <td>Well-drained gravel soil gives this wine its crisp and dry character. It is ripe and fruity, although the spice is subdued in favor of a more serious structure. This is a wine to age for a couple of years, so drink from 2017.</td>\n",
       "      <td>Roger Voss</td>\n",
       "      <td>@vossroger</td>\n",
       "      <td>30</td>\n",
       "      <td>Well-drained gravel soil gives this wine its crisp and dry character. It is ripe and fruity, although the spice is subdued in favor of a more serious structure. This is a wine to age for a couple of years, so drink from 2017. Well-drained gravel soil gives wine crisp dry character. It ripe fruity, although spice subdued favor serious structure. This wine age couple years, drink 2017. Gewurztraminer 2013 Kritt Gresser Alsace Gewürztraminer (Alsace) Domaine France</td>\n",
       "      <td>76</td>\n",
       "    </tr>\n",
       "    <tr>\n",
       "      <th>129969</th>\n",
       "      <td>90</td>\n",
       "      <td>A dry style of Pinot Gris, this is crisp with some acidity. It also has weight and a solid, powerful core of spice and baked apple flavors. With its structure still developing, the wine needs to age. Drink from 2015.</td>\n",
       "      <td>Roger Voss</td>\n",
       "      <td>@vossroger</td>\n",
       "      <td>32</td>\n",
       "      <td>A dry style of Pinot Gris, this is crisp with some acidity. It also has weight and a solid, powerful core of spice and baked apple flavors. With its structure still developing, the wine needs to age. Drink from 2015. A dry style Pinot Gris, crisp acidity. It also weight solid, powerful core spice baked apple flavors. With structure still developing, wine needs age. Drink 2015. Pinot Deiss 2012 Marcel Alsace Gris (Alsace) Domaine France</td>\n",
       "      <td>75</td>\n",
       "    </tr>\n",
       "    <tr>\n",
       "      <th>129970</th>\n",
       "      <td>90</td>\n",
       "      <td>Big, rich and off-dry, this is powered by intense spiciness and rounded texture. Lychees dominate the fruit profile, giving an opulent feel to the aftertaste. Drink now.</td>\n",
       "      <td>Roger Voss</td>\n",
       "      <td>@vossroger</td>\n",
       "      <td>21</td>\n",
       "      <td>Big, rich and off-dry, this is powered by intense spiciness and rounded texture. Lychees dominate the fruit profile, giving an opulent feel to the aftertaste. Drink now. Big, rich off-dry, powered intense spiciness rounded texture. Lychees dominate fruit profile, giving opulent feel aftertaste. Drink now. 2012 Gewurztraminer Schoffit Lieu-dit Caroline Alsace Gewürztraminer (Alsace) Domaine Cuvée Harth France</td>\n",
       "      <td>57</td>\n",
       "    </tr>\n",
       "  </tbody>\n",
       "</table>\n",
       "<p>111593 rows × 7 columns</p>\n",
       "</div>"
      ],
      "text/plain": [
       "        points  \\\n",
       "1           87   \n",
       "2           87   \n",
       "3           87   \n",
       "4           87   \n",
       "5           87   \n",
       "...        ...   \n",
       "129966      90   \n",
       "129967      90   \n",
       "129968      90   \n",
       "129969      90   \n",
       "129970      90   \n",
       "\n",
       "                                                                                                                                                                                                                                                                  description  \\\n",
       "1                                         This is ripe and fruity, a wine that is smooth while still structured. Firm tannins are filled out with juicy red berry fruits and freshened with acidity. It's  already drinkable, although it will certainly be better from 2016.   \n",
       "2                                                                                  Tart and snappy, the flavors of lime flesh and rind dominate. Some green pineapple pokes through, with crisp acidity underscoring the flavors. The wine was all stainless-steel fermented.   \n",
       "3                                                                     Pineapple rind, lemon pith and orange blossom start off the aromas. The palate is a bit more opulent, with notes of honey-drizzled guava and mango giving way to a slightly astringent, semidry finish.   \n",
       "4                   Much like the regular bottling from 2012, this comes across as rather rough and tannic, with rustic, earthy, herbal characteristics. Nonetheless, if you think of it as a pleasantly unfussy country wine, it's a good companion to a hearty winter stew.   \n",
       "5       Blackberry and raspberry aromas show a typical Navarran whiff of green herbs and, in this case, horseradish. In the mouth, this is fairly full bodied, with tomatoey acidity. Spicy, herbal flavors complement dark plum fruit, while the finish is fresh but grabby.   \n",
       "...                                                                                                                                                                                                                                                                       ...   \n",
       "129966                                    Notes of honeysuckle and cantaloupe sweeten this deliciously feather-light spätlese. It's intensely juicy, quenching the palate with streams of tart tangerine and grapefruit acidity, yet wraps up with a kiss of honey and peach.   \n",
       "129967                              Citation is given as much as a decade of bottle age prior to release, which means it is pre-cellared and drinking at its peak. Baked cherry, cocoa and coconut flavors combine gracefully, with soft, secondary fruit compote highlights.   \n",
       "129968                                      Well-drained gravel soil gives this wine its crisp and dry character. It is ripe and fruity, although the spice is subdued in favor of a more serious structure. This is a wine to age for a couple of years, so drink from 2017.   \n",
       "129969                                               A dry style of Pinot Gris, this is crisp with some acidity. It also has weight and a solid, powerful core of spice and baked apple flavors. With its structure still developing, the wine needs to age. Drink from 2015.   \n",
       "129970                                                                                              Big, rich and off-dry, this is powered by intense spiciness and rounded texture. Lychees dominate the fruit profile, giving an opulent feel to the aftertaste. Drink now.   \n",
       "\n",
       "               taster-name taster-twitter-handle  price  \\\n",
       "1               Roger Voss            @vossroger     15   \n",
       "2             Paul Gregutt           @paulgwine      14   \n",
       "3       Alexander Peartree                           13   \n",
       "4             Paul Gregutt           @paulgwine      65   \n",
       "5        Michael Schachner           @wineschach     15   \n",
       "...                    ...                   ...    ...   \n",
       "129966  Anna Lee C. Iijima                           28   \n",
       "129967        Paul Gregutt           @paulgwine      75   \n",
       "129968          Roger Voss            @vossroger     30   \n",
       "129969          Roger Voss            @vossroger     32   \n",
       "129970          Roger Voss            @vossroger     21   \n",
       "\n",
       "                                                                                                                                                                                                                                                                                                                                                                                                                                                                                                                                                                   merged_info_text  \\\n",
       "1                                                                                                              This is ripe and fruity, a wine that is smooth while still structured. Firm tannins are filled out with juicy red berry fruits and freshened with acidity. It's  already drinkable, although it will certainly be better from 2016. This ripe fruity, wine smooth still structured. Firm tannins filled juicy red berry fruits freshened acidity. It's already drinkable, although certainly better 2016. Quinta Douro (Douro) Portugal Red 2011 Avidagos Portuguese   \n",
       "2                                                                                                                                                   Tart and snappy, the flavors of lime flesh and rind dominate. Some green pineapple pokes through, with crisp acidity underscoring the flavors. The wine was all stainless-steel fermented. Tart snappy, flavors lime flesh rind dominate. Some green pineapple pokes through, crisp acidity underscoring flavors. The wine stainless-steel fermented. Pinot (Willamette Valley 2013 US Rainstorm Gris Oregon Willamette Valley)   \n",
       "3                                                                                                                        Pineapple rind, lemon pith and orange blossom start off the aromas. The palate is a bit more opulent, with notes of honey-drizzled guava and mango giving way to a slightly astringent, semidry finish. Pineapple rind, lemon pith orange blossom start aromas. The palate bit opulent, notes honey-drizzled guava mango giving way slightly astringent, semidry finish. Shore) St. Shore 2013 Riesling US Lake Harvest Late Michigan Reserve (Lake Julian   \n",
       "4       Much like the regular bottling from 2012, this comes across as rather rough and tannic, with rustic, earthy, herbal characteristics. Nonetheless, if you think of it as a pleasantly unfussy country wine, it's a good companion to a hearty winter stew. Much like regular bottling 2012, comes across rather rough tannic, rustic, earthy, herbal characteristics. Nonetheless, think pleasantly unfussy country wine, good companion hearty winter stew. Pinot 2012 (Willamette Block Vintner's Valley Sweet Cheeks Willamette US Noir Oregon Child Reserve Wild Valley)   \n",
       "5             Blackberry and raspberry aromas show a typical Navarran whiff of green herbs and, in this case, horseradish. In the mouth, this is fairly full bodied, with tomatoey acidity. Spicy, herbal flavors complement dark plum fruit, while the finish is fresh but grabby. Blackberry raspberry aromas show typical Navarran whiff green herbs and, case, horseradish. In mouth, fairly full bodied, tomatoey acidity. Spicy, herbal flavors complement dark plum fruit, finish fresh grabby. (Navarra) 2011 Tandem Northern Spain Ars Tempranillo-Merlot Vitro In Navarra   \n",
       "...                                                                                                                                                                                                                                                                                                                                                                                                                                                                                                                                                                             ...   \n",
       "129966                               Notes of honeysuckle and cantaloupe sweeten this deliciously feather-light spätlese. It's intensely juicy, quenching the palate with streams of tart tangerine and grapefruit acidity, yet wraps up with a kiss of honey and peach. Notes honeysuckle cantaloupe sweeten deliciously feather-light spätlese. It's intensely juicy, quenching palate streams tart tangerine grapefruit acidity, yet wraps kiss honey peach. Müller-Burggraef) Juffer-Sonnenuhr Mosel (Erben H. 2013 Spätlese Riesling Dr. Germany Brauneberger Thanisch (Mosel)   \n",
       "129967                                                                                         Citation is given as much as a decade of bottle age prior to release, which means it is pre-cellared and drinking at its peak. Baked cherry, cocoa and coconut flavors combine gracefully, with soft, secondary fruit compote highlights. Citation given much decade bottle age prior release, means pre-cellared drinking peak. Baked cherry, cocoa coconut flavors combine gracefully, soft, secondary fruit compote highlights. Pinot Citation Other US Noir Oregon (Oregon) 2004   \n",
       "129968                                                                                           Well-drained gravel soil gives this wine its crisp and dry character. It is ripe and fruity, although the spice is subdued in favor of a more serious structure. This is a wine to age for a couple of years, so drink from 2017. Well-drained gravel soil gives wine crisp dry character. It ripe fruity, although spice subdued favor serious structure. This wine age couple years, drink 2017. Gewurztraminer 2013 Kritt Gresser Alsace Gewürztraminer (Alsace) Domaine France   \n",
       "129969                                                                                                                      A dry style of Pinot Gris, this is crisp with some acidity. It also has weight and a solid, powerful core of spice and baked apple flavors. With its structure still developing, the wine needs to age. Drink from 2015. A dry style Pinot Gris, crisp acidity. It also weight solid, powerful core spice baked apple flavors. With structure still developing, wine needs age. Drink 2015. Pinot Deiss 2012 Marcel Alsace Gris (Alsace) Domaine France   \n",
       "129970                                                                                                                                                  Big, rich and off-dry, this is powered by intense spiciness and rounded texture. Lychees dominate the fruit profile, giving an opulent feel to the aftertaste. Drink now. Big, rich off-dry, powered intense spiciness rounded texture. Lychees dominate fruit profile, giving opulent feel aftertaste. Drink now. 2012 Gewurztraminer Schoffit Lieu-dit Caroline Alsace Gewürztraminer (Alsace) Domaine Cuvée Harth France   \n",
       "\n",
       "        len  \n",
       "1        70  \n",
       "2        58  \n",
       "3        68  \n",
       "4        82  \n",
       "5        81  \n",
       "...     ...  \n",
       "129966   69  \n",
       "129967   70  \n",
       "129968   76  \n",
       "129969   75  \n",
       "129970   57  \n",
       "\n",
       "[111593 rows x 7 columns]"
      ]
     },
     "execution_count": 6,
     "metadata": {},
     "output_type": "execute_result"
    }
   ],
   "source": [
    "df"
   ]
  },
  {
   "cell_type": "code",
   "execution_count": 7,
   "id": "cff715e4-d3e2-4014-b201-90c87bcea923",
   "metadata": {},
   "outputs": [],
   "source": [
    "# The removes the ceiling for memory usage for application on my laptop.  \n",
    "# It would run out of money if I don't remove it.\n",
    "# Exercise extreme caution.   \n",
    "os.environ['PYTORCH_MPS_HIGH_WATERMARK_RATIO'] = '-0.0'"
   ]
  },
  {
   "cell_type": "markdown",
   "id": "4edbee2d-9c40-4994-9a42-91c410a9e56f",
   "metadata": {},
   "source": [
    "## Maximum length of the text is 225 words, this is very close to the upper limits of most models of 256 words.  That's why I choose the model with the highest word limit of 512: 'msmarco-distilbert-dot-v5'\n"
   ]
  },
  {
   "cell_type": "code",
   "execution_count": 10,
   "id": "2ece9495-fc7d-41c5-9ae0-7855b7653f87",
   "metadata": {},
   "outputs": [
    {
     "data": {
      "text/plain": [
       "225"
      ]
     },
     "execution_count": 10,
     "metadata": {},
     "output_type": "execute_result"
    }
   ],
   "source": [
    "df[\"len\"].max()"
   ]
  },
  {
   "cell_type": "code",
   "execution_count": 11,
   "id": "df42d82b-2381-4626-98e7-37b9cfa0dad9",
   "metadata": {
    "scrolled": true
   },
   "outputs": [],
   "source": [
    "# This is the sentence transformer that can take the longest text (512 words).   \n",
    "# Our description can be as long as 225 words (near 256 words which is the limit of next best model. \n",
    "# Wheir embeddings will not be perfect, still well over half their words are captured.\n",
    "# It is the best we can do.\n",
    "model_names = ['msmarco-distilbert-dot-v5']\n",
    "trust_remote_code = False\n",
    "\n",
    "# I used the following to generate embeddings with multiple transformers and compare.  \n",
    "# Here I have only one.\n",
    "for model_name in model_names:\n",
    "    model = SentenceTransformer(model_name, trust_remote_code = trust_remote_code)\n",
    "    df[\"desc_embed\"] = df[\"merged_info_text\"].apply(lambda text: model.encode(text, convert_to_tensor=True))\n",
    "    desc_embeds = model.encode(df[\"merged_info_text\"].values, convert_to_tensor=False)\n",
    "    df_embeds = pd.DataFrame(columns = ['embed_'+ str(num).zfill(3) for num in range(desc_embeds.shape[1])],\n",
    "                             data = desc_embeds,\n",
    "                             index = df.index\n",
    "                            )\n",
    "    with gzip.open(\"../data/embedded_desc_nostopwords\"+model_name.split(\"/\")[-1]+\".pckl\", \"wb\") as f:\n",
    "        pickle.dump(df_embeds, f)"
   ]
  },
  {
   "cell_type": "code",
   "execution_count": null,
   "id": "72712c3f-572d-4869-917b-c4f04bb7348e",
   "metadata": {},
   "outputs": [],
   "source": []
  }
 ],
 "metadata": {
  "kernelspec": {
   "display_name": "Python 3 (ipykernel)",
   "language": "python",
   "name": "python3"
  },
  "language_info": {
   "codemirror_mode": {
    "name": "ipython",
    "version": 3
   },
   "file_extension": ".py",
   "mimetype": "text/x-python",
   "name": "python",
   "nbconvert_exporter": "python",
   "pygments_lexer": "ipython3",
   "version": "3.12.4"
  }
 },
 "nbformat": 4,
 "nbformat_minor": 5
}
