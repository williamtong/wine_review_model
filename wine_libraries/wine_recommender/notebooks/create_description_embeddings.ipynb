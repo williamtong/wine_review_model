{
 "cells": [
  {
   "cell_type": "code",
   "execution_count": 2,
   "id": "e2efed51-9480-49c7-befe-a40e7f247064",
   "metadata": {},
   "outputs": [],
   "source": [
    "import pandas as pd\n",
    "pd.set_option('display.max_colwidth', None)\n",
    "\n",
    "import numpy as np\n",
    "import torch\n",
    "\n",
    "import gzip\n",
    "import os\n",
    "import pickle\n",
    "\n",
    "import importlib\n",
    "import matplotlib.pyplot as plt\n",
    "\n",
    "from sklearn.metrics.pairwise import cosine_similarity"
   ]
  },
  {
   "cell_type": "code",
   "execution_count": 3,
   "id": "dd02855a-73d3-4252-833c-131bf2a85349",
   "metadata": {},
   "outputs": [
    {
     "data": {
      "text/plain": [
       "'/Users/willtong/Documents/AI_models/wine_review_model/wine_libraries/wine_recommender/notebooks'"
      ]
     },
     "execution_count": 3,
     "metadata": {},
     "output_type": "execute_result"
    }
   ],
   "source": [
    "pwd\n"
   ]
  },
  {
   "cell_type": "code",
   "execution_count": 4,
   "id": "d4006876-ccf8-4739-a062-48850e573d44",
   "metadata": {},
   "outputs": [
    {
     "name": "stderr",
     "output_type": "stream",
     "text": [
      "[nltk_data] Error loading stopwords: <urlopen error [SSL:\n",
      "[nltk_data]     CERTIFICATE_VERIFY_FAILED] certificate verify failed:\n",
      "[nltk_data]     unable to get local issuer certificate (_ssl.c:1000)>\n",
      "[nltk_data] Error loading punkt: <urlopen error [SSL:\n",
      "[nltk_data]     CERTIFICATE_VERIFY_FAILED] certificate verify failed:\n",
      "[nltk_data]     unable to get local issuer certificate (_ssl.c:1000)>\n"
     ]
    }
   ],
   "source": [
    "import nltk\n",
    "from nltk.corpus import stopwords\n",
    "nltk.download('stopwords')\n",
    "os.chdir('../../')\n",
    "\n",
    "# These are my personally tailored stop words that include foreign articles such as 'la', 'el', 'les', 'il'\n",
    "from functions.featurization import stop_words\n",
    "\n",
    "# About 150 typical English stopwords\n",
    "nltk_words = list(stopwords.words('english'))\n",
    "# Remove negative words from stop word list.  In other words, I want to keep them in the text.\n",
    "# I believe those words are important in conveying negative sentiments.\n",
    "nltk_words = [word for word in nltk_words if 'not' not in word and word[-3:] != \"n't\" and word[-2:] != \"n'\"][:141]\n",
    "\n",
    "# Add the nltk words to my original stop word list\n",
    "stop_words.extend(nltk_words)\n"
   ]
  },
  {
   "cell_type": "markdown",
   "id": "1824ed00-a808-4717-80b3-c24cbf89e10c",
   "metadata": {},
   "source": [
    "## These are the stop words I had used in training the price model."
   ]
  },
  {
   "cell_type": "code",
   "execution_count": 5,
   "id": "301951fa-0b3e-4046-8875-c43ace37eb6c",
   "metadata": {},
   "outputs": [
    {
     "name": "stdout",
     "output_type": "stream",
     "text": [
      "['&', 'la', 'le', 'les', 'the', 'da', 'dal', 'dalla', 'della', 'del', 'de', 'al', 'alla', 'gli', 'i', 'dos', 'das', 'di', 'du', 'do', 'lo', 'of', 'and', 'with', 'to', 'the', 'a', 'an', 'i', 'me', 'my', 'myself', 'we', 'our', 'ours', 'ourselves', 'you', \"you're\", \"you've\", \"you'll\", \"you'd\", 'your', 'yours', 'yourself', 'yourselves', 'he', 'him', 'his', 'himself', 'she', \"she's\", 'her', 'hers', 'herself', 'it', \"it's\", 'its', 'itself', 'they', 'them', 'their', 'theirs', 'themselves', 'what', 'which', 'who', 'whom', 'this', 'that', \"that'll\", 'these', 'those', 'am', 'is', 'are', 'was', 'were', 'be', 'been', 'being', 'have', 'has', 'had', 'having', 'do', 'does', 'did', 'doing', 'a', 'an', 'the', 'and', 'but', 'if', 'or', 'because', 'as', 'until', 'while', 'of', 'at', 'by', 'for', 'with', 'about', 'against', 'between', 'into', 'through', 'during', 'before', 'after', 'above', 'below', 'to', 'from', 'up', 'down', 'in', 'out', 'on', 'off', 'over', 'under', 'again', 'further', 'then', 'once', 'here', 'there', 'when', 'where', 'why', 'how', 'all', 'any', 'both', 'each', 'few', 'more', 'most', 'other', 'some', 'such', 'no', 'nor', 'only', 'own', 'same', 'so', 'than', 'too', 'very', 's', 't', 'can', 'will', 'just', 'don', 'should', \"should've\", 'now', 'd', 'll', 'm', 'o', 're', 've', 'y']\n"
     ]
    }
   ],
   "source": [
    "print(stop_words)"
   ]
  },
  {
   "cell_type": "markdown",
   "id": "068218e2-365a-43f8-9923-7dbf1e9034cd",
   "metadata": {},
   "source": [
    "## Remove all negative words since negative words are useful (e.g. not dry is opposite of dry)."
   ]
  },
  {
   "cell_type": "code",
   "execution_count": 6,
   "id": "0d254ca9-77b7-4b3e-8b44-5ccac3fe923c",
   "metadata": {},
   "outputs": [
    {
     "name": "stdout",
     "output_type": "stream",
     "text": [
      "['&', 'la', 'le', 'les', 'the', 'da', 'dal', 'dalla', 'della', 'del', 'de', 'al', 'alla', 'gli', 'i', 'dos', 'das', 'di', 'du', 'do', 'lo', 'of', 'and', 'with', 'to', 'the', 'a', 'an', 'i', 'me', 'my', 'myself', 'we', 'our', 'ours', 'ourselves', 'you', \"you're\", \"you've\", \"you'll\", \"you'd\", 'your', 'yours', 'yourself', 'yourselves', 'he', 'him', 'his', 'himself', 'she', \"she's\", 'her', 'hers', 'herself', 'it', \"it's\", 'its', 'itself', 'they', 'them', 'their', 'theirs', 'themselves', 'what', 'which', 'who', 'whom', 'this', 'that', \"that'll\", 'these', 'those', 'am', 'is', 'are', 'was', 'were', 'be', 'been', 'being', 'have', 'has', 'had', 'having', 'do', 'does', 'did', 'doing', 'a', 'an', 'the', 'and', 'but', 'if', 'or', 'because', 'as', 'until', 'while', 'of', 'at', 'by', 'for', 'with', 'about', 'against', 'between', 'into', 'through', 'during', 'before', 'after', 'above', 'below', 'to', 'from', 'up', 'down', 'in', 'out', 'on', 'off', 'over', 'under', 'again', 'further', 'then', 'once', 'here', 'there', 'when', 'where', 'why', 'how', 'all', 'any', 'both', 'each', 'few', 'more', 'most', 'other', 'some', 'such', 'no', 'nor', 'only', 'own', 'same', 'so', 'than', 'too', 'very', 's', 't', 'can', 'will', 'just', 'don', 'should', \"should've\", 'now', 'd', 'll', 'm', 'o', 're', 've', 'y']\n"
     ]
    }
   ],
   "source": [
    "print([word for word in stop_words if 'not' not in word and word[-3:] != \"n't\" and word[-2:] != \"n'\"])"
   ]
  },
  {
   "cell_type": "code",
   "execution_count": 7,
   "id": "119fb0d1-ab2a-4d79-827c-cbe56d8fd0c1",
   "metadata": {},
   "outputs": [],
   "source": [
    "# negative words can be useful information and should be kept\n",
    "stop_words.remove('nor')\n",
    "stop_words.remove('no')\n",
    "stop_words.remove('don')\n",
    "stop_words.remove('t')"
   ]
  },
  {
   "cell_type": "code",
   "execution_count": 8,
   "id": "2d16eed2-70b6-44f4-ad2d-11e3a6265c2c",
   "metadata": {},
   "outputs": [
    {
     "name": "stdout",
     "output_type": "stream",
     "text": [
      "['&', 'a', 'a', 'about', 'above', 'after', 'again', 'against', 'al', 'all', 'alla', 'am', 'an', 'an', 'and', 'and', 'any', 'are', 'as', 'at', 'be', 'because', 'been', 'before', 'being', 'below', 'between', 'both', 'but', 'by', 'can', 'd', 'da', 'dal', 'dalla', 'das', 'de', 'del', 'della', 'di', 'did', 'do', 'do', 'does', 'doing', 'dos', 'down', 'du', 'during', 'each', 'few', 'for', 'from', 'further', 'gli', 'had', 'has', 'have', 'having', 'he', 'her', 'here', 'hers', 'herself', 'him', 'himself', 'his', 'how', 'i', 'i', 'if', 'in', 'into', 'is', 'it', \"it's\", 'its', 'itself', 'just', 'la', 'le', 'les', 'll', 'lo', 'm', 'me', 'more', 'most', 'my', 'myself', 'now', 'o', 'of', 'of', 'off', 'on', 'once', 'only', 'or', 'other', 'our', 'ours', 'ourselves', 'out', 'over', 'own', 're', 's', 'same', 'she', \"she's\", 'should', \"should've\", 'so', 'some', 'such', 'than', 'that', \"that'll\", 'the', 'the', 'the', 'their', 'theirs', 'them', 'themselves', 'then', 'there', 'these', 'they', 'this', 'those', 'through', 'to', 'to', 'too', 'under', 'until', 'up', 've', 'very', 'was', 'we', 'were', 'what', 'when', 'where', 'which', 'while', 'who', 'whom', 'why', 'will', 'with', 'with', 'y', 'you', \"you'd\", \"you'll\", \"you're\", \"you've\", 'your', 'yours', 'yourself', 'yourselves']\n"
     ]
    }
   ],
   "source": [
    "print(sorted(stop_words))"
   ]
  },
  {
   "cell_type": "code",
   "execution_count": 9,
   "id": "5a06beec-573c-430c-a7dd-5f1c3fa7b233",
   "metadata": {},
   "outputs": [
    {
     "name": "stderr",
     "output_type": "stream",
     "text": [
      "/Users/willtong/Library/Caches/pypoetry/virtualenvs/wine-libraries-PLl6gzSz-py3.12/lib/python3.12/site-packages/sentence_transformers/cross_encoder/CrossEncoder.py:11: TqdmExperimentalWarning: Using `tqdm.autonotebook.tqdm` in notebook mode. Use `tqdm.tqdm` instead to force console mode (e.g. in jupyter console)\n",
      "  from tqdm.autonotebook import tqdm, trange\n"
     ]
    }
   ],
   "source": [
    "from sentence_transformers import SentenceTransformer \n"
   ]
  },
  {
   "cell_type": "markdown",
   "id": "dfcaacbb-82d3-4c09-8de2-189414eb403a",
   "metadata": {},
   "source": [
    "## Load data set"
   ]
  },
  {
   "cell_type": "code",
   "execution_count": 10,
   "id": "6ab9cbbc-2ca7-4188-9f07-16f79e156462",
   "metadata": {
    "scrolled": true
   },
   "outputs": [
    {
     "data": {
      "text/plain": [
       "(111593, 15)"
      ]
     },
     "execution_count": 10,
     "metadata": {},
     "output_type": "execute_result"
    }
   ],
   "source": [
    "df = pd.read_json(\"data/deduped_mod_winemag-data-130k-v2.json\")\n",
    "df.shape"
   ]
  },
  {
   "cell_type": "code",
   "execution_count": null,
   "id": "35412e1a-1185-4060-8deb-97995e8d3767",
   "metadata": {},
   "outputs": [],
   "source": []
  },
  {
   "cell_type": "code",
   "execution_count": 10,
   "id": "7eb4f0c6-af58-421b-a3c1-078c855f1332",
   "metadata": {},
   "outputs": [],
   "source": [
    "info_features = df.columns\n",
    "info_features = ['title',  'designation', 'variety', 'region-1',\n",
    "       'region-2', 'province', 'country', 'winery']\n",
    "df.fillna(\" \", inplace = True)\n",
    "# This step is not strictly necessary.  It just reduces the total number of words by removing redundant words.\n",
    "# This is done because the transformer has a word limit.\n",
    "df[\"merged_info_text\"] = df[info_features].apply(lambda info_features: ' '.join(list(set(info_features))), axis = 1)\n",
    "df[\"merged_info_text\"] = df[\"merged_info_text\"].apply(lambda merged_info_text: \" \".join(list(set(merged_info_text.split(\" \")))))\n",
    "\n",
    "#  Augment info_features to text to enrich it.\n",
    "df[\"merged_info_text\"] = df[['description', \"merged_info_text\"]].apply(lambda info_features: ' '.join(list(info_features)), axis = 1)\n",
    "\n",
    "# Remove stop words\n",
    "df[\"merged_info_text\"] = df[\"merged_info_text\"].apply(lambda text: \" \".join([w for w in text.split() if not w in stop_words]))\n",
    "df[\"len\"] = df[\"merged_info_text\"].apply(len)\n",
    "\n",
    "\n",
    "df.drop(info_features, axis = 1, inplace = True)\n",
    "# df[\"merged_info_features\"] = df[info_features].apply(lambda info_features: info_features)"
   ]
  },
  {
   "cell_type": "code",
   "execution_count": 25,
   "id": "cff715e4-d3e2-4014-b201-90c87bcea923",
   "metadata": {},
   "outputs": [],
   "source": [
    "# The removes the ceiling for memory usage for application on my laptop.  \n",
    "# It would run out of money if I don't remove it.\n",
    "# Exercise extreme caution.   \n",
    "os.environ['PYTORCH_MPS_HIGH_WATERMARK_RATIO'] = '-0.0'"
   ]
  },
  {
   "cell_type": "code",
   "execution_count": 26,
   "id": "df42d82b-2381-4626-98e7-37b9cfa0dad9",
   "metadata": {
    "scrolled": true
   },
   "outputs": [],
   "source": [
    "# This is the sentence transformer that can take the longest text (512 words).   \n",
    "# Our description can be as long as > 900 words (about 100 or so).  \n",
    "# Wheir embeddings will not be perfect, still well over half their words are captured.\n",
    "# It is the best we can do.\n",
    "model_names = ['msmarco-distilbert-dot-v5']\n",
    "trust_remote_code = False\n",
    "\n",
    "for model_name in model_names:\n",
    "    model = SentenceTransformer(model_name, trust_remote_code = trust_remote_code)\n",
    "    df[\"desc_embed\"] = df[\"merged_info_text\"].apply(lambda text: model.encode(text, convert_to_tensor=True))\n",
    "    desc_embeds = model.encode(df[\"merged_info_text\"].values, convert_to_tensor=False)\n",
    "    df_embeds = pd.DataFrame(columns = ['embed_'+ str(num).zfill(3) for num in range(desc_embeds.shape[1])],\n",
    "                             data = desc_embeds,\n",
    "                             index = df.index\n",
    "                            )"
   ]
  },
  {
   "cell_type": "code",
   "execution_count": 28,
   "id": "881ecd9a-f0f1-4e18-93c8-7b9e7c109bfc",
   "metadata": {},
   "outputs": [],
   "source": [
    "with gzip.open(\"data/embedded_desc_newstopwds\"+model_name.split(\"/\")[-1]+\".pckl\", \"wb\") as f:\n",
    "    pickle.dump(df_embeds, f)"
   ]
  },
  {
   "cell_type": "code",
   "execution_count": null,
   "id": "72712c3f-572d-4869-917b-c4f04bb7348e",
   "metadata": {},
   "outputs": [],
   "source": []
  }
 ],
 "metadata": {
  "kernelspec": {
   "display_name": "Python 3 (ipykernel)",
   "language": "python",
   "name": "python3"
  },
  "language_info": {
   "codemirror_mode": {
    "name": "ipython",
    "version": 3
   },
   "file_extension": ".py",
   "mimetype": "text/x-python",
   "name": "python",
   "nbconvert_exporter": "python",
   "pygments_lexer": "ipython3",
   "version": "3.12.4"
  }
 },
 "nbformat": 4,
 "nbformat_minor": 5
}
