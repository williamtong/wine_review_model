{
 "cells": [
  {
   "cell_type": "code",
   "execution_count": 1,
   "id": "e2efed51-9480-49c7-befe-a40e7f247064",
   "metadata": {},
   "outputs": [
    {
     "name": "stderr",
     "output_type": "stream",
     "text": [
      "/Users/willtong/Library/Caches/pypoetry/virtualenvs/wine-libraries-PLl6gzSz-py3.12/lib/python3.12/site-packages/sentence_transformers/cross_encoder/CrossEncoder.py:11: TqdmExperimentalWarning: Using `tqdm.autonotebook.tqdm` in notebook mode. Use `tqdm.tqdm` instead to force console mode (e.g. in jupyter console)\n",
      "  from tqdm.autonotebook import tqdm, trange\n"
     ]
    }
   ],
   "source": [
    "import pandas as pd\n",
    "pd.set_option('display.max_colwidth', None)\n",
    "\n",
    "import numpy as np\n",
    "import torch\n",
    "import gzip\n",
    "import os\n",
    "import pickle\n",
    "\n",
    "import importlib\n",
    "import matplotlib.pyplot as plt\n",
    "\n",
    "from sklearn.metrics.pairwise import cosine_similarity, euclidean_distances\n",
    "\n",
    "from sentence_transformers import SentenceTransformer "
   ]
  },
  {
   "cell_type": "code",
   "execution_count": 2,
   "id": "1c62182a-99d4-47bf-8229-c0aa0ba6b491",
   "metadata": {},
   "outputs": [
    {
     "name": "stderr",
     "output_type": "stream",
     "text": [
      "[nltk_data] Error loading stopwords: <urlopen error [SSL:\n",
      "[nltk_data]     CERTIFICATE_VERIFY_FAILED] certificate verify failed:\n",
      "[nltk_data]     unable to get local issuer certificate (_ssl.c:1000)>\n",
      "[nltk_data] Error loading punkt: <urlopen error [SSL:\n",
      "[nltk_data]     CERTIFICATE_VERIFY_FAILED] certificate verify failed:\n",
      "[nltk_data]     unable to get local issuer certificate (_ssl.c:1000)>\n"
     ]
    }
   ],
   "source": [
    "os.chdir('../../')\n",
    "\n",
    "# importlib.reload(functions.similar_wines)\n",
    "from functions.similar_wines import find_your_wine, info_features, most_similar_wine_within_dataset\n",
    "\n"
   ]
  },
  {
   "cell_type": "code",
   "execution_count": 3,
   "id": "f2f17fc6-c737-4ec1-9f7f-83107b80e55b",
   "metadata": {},
   "outputs": [
    {
     "data": {
      "text/plain": [
       "'/Users/willtong/Documents/AI_models/wine_review_model/wine_libraries'"
      ]
     },
     "execution_count": 3,
     "metadata": {},
     "output_type": "execute_result"
    }
   ],
   "source": [
    "pwd"
   ]
  },
  {
   "cell_type": "code",
   "execution_count": 4,
   "id": "cbc2712e-2563-43f2-9221-3f7674dcfe4b",
   "metadata": {},
   "outputs": [],
   "source": [
    "df = pd.read_json(\"data/deduped_mod_winemag-data-130k-v2.json\")"
   ]
  },
  {
   "cell_type": "code",
   "execution_count": 6,
   "id": "8afcd596-2da8-48e8-b8ed-1e4b2560ee92",
   "metadata": {},
   "outputs": [],
   "source": [
    "model_name = 'msmarco-distilbert-dot-v5'\n",
    "model_path = \"data/embedded_desc_newstopwds\"+model_name.split(\"/\")[-1]+\".pckl\"\n",
    "text_tranformer = SentenceTransformer(model_name)"
   ]
  },
  {
   "cell_type": "code",
   "execution_count": 7,
   "id": "a675dbcb-9305-46de-9e3e-cb7f3b2d07e9",
   "metadata": {},
   "outputs": [],
   "source": [
    "\n",
    "with gzip.open(model_path, \"rb\") as f:\n",
    "    df_embeds = pickle.load(f)"
   ]
  },
  {
   "cell_type": "markdown",
   "id": "c215cd70-c41b-465d-aa65-7ef6dcc47146",
   "metadata": {},
   "source": [
    "# Here we created a scipt to allow the user to enter the wine that he likes.\n",
    "# First, I want to see whether _cosine similarity_ or _Euclidean distance_ is a more effective similarity function.\n",
    "# What you see below are three examples.  In all three cases, the cosine similarity is clearly better matched to the desirable factors in the input text.  In fact the _Euclidean distance_ responses are very generic and not specific to the input text at all."
   ]
  },
  {
   "cell_type": "code",
   "execution_count": 8,
   "id": "39af4c27-01f8-4c65-b6e3-4a745de85915",
   "metadata": {},
   "outputs": [
    {
     "data": {
      "text/plain": [
       "(30, 'robust red cherry vanilla cinnamon coconut nutmeg.')"
      ]
     },
     "execution_count": 8,
     "metadata": {},
     "output_type": "execute_result"
    }
   ],
   "source": [
    "your_wine_text = \"robust red cherry vanilla cinnamon coconut nutmeg.\"\n",
    "price_importance = 0.01\n",
    "your_price = 30\n",
    "your_price, your_wine_text"
   ]
  },
  {
   "cell_type": "code",
   "execution_count": 9,
   "id": "4339dc13-2acb-4720-984b-657cbeb80fa8",
   "metadata": {},
   "outputs": [
    {
     "name": "stdout",
     "output_type": "stream",
     "text": [
      "robust red cherry vanilla cinnamon coconut nutmeg.\n",
      "distance\n"
     ]
    },
    {
     "data": {
      "text/html": [
       "<div>\n",
       "<style scoped>\n",
       "    .dataframe tbody tr th:only-of-type {\n",
       "        vertical-align: middle;\n",
       "    }\n",
       "\n",
       "    .dataframe tbody tr th {\n",
       "        vertical-align: top;\n",
       "    }\n",
       "\n",
       "    .dataframe thead th {\n",
       "        text-align: right;\n",
       "    }\n",
       "</style>\n",
       "<table border=\"1\" class=\"dataframe\">\n",
       "  <thead>\n",
       "    <tr style=\"text-align: right;\">\n",
       "      <th></th>\n",
       "      <th>merged_info_text</th>\n",
       "      <th>price</th>\n",
       "      <th>taster-name</th>\n",
       "      <th>points</th>\n",
       "      <th>desc_sim</th>\n",
       "      <th>price_sim</th>\n",
       "      <th>overall_similarity</th>\n",
       "    </tr>\n",
       "  </thead>\n",
       "  <tbody>\n",
       "    <tr>\n",
       "      <th>74215</th>\n",
       "      <td>Twelve months bottle aging selection Touriga Nacional Alfrocheiro resulted powerfully structured wine. The wood aging still showing wine's toasty character hints dry extraction spoiling black fruit flavors. The wine integrate better develops, wait 2017. UDACA Sé Portugal Selection Red Dão 2011 Tesouro Private (Dão) Portuguese</td>\n",
       "      <td>26</td>\n",
       "      <td>Roger Voss</td>\n",
       "      <td>89</td>\n",
       "      <td>9.673704</td>\n",
       "      <td>0.994681</td>\n",
       "      <td>9.622248</td>\n",
       "    </tr>\n",
       "    <tr>\n",
       "      <th>25435</th>\n",
       "      <td>This small appellation situated south north banks Garonne river near Agen. Using grapes three-year-old vines, wine ripe juicy red fruit flavors, layering acidity gives fresh aftertaste. Drink 2018. Brulhois (Brulhois) Labastide Orliac Château Red Blend Southwest France 2010</td>\n",
       "      <td>30</td>\n",
       "      <td>Roger Voss</td>\n",
       "      <td>90</td>\n",
       "      <td>9.571564</td>\n",
       "      <td>1.000000</td>\n",
       "      <td>9.571564</td>\n",
       "    </tr>\n",
       "    <tr>\n",
       "      <th>100111</th>\n",
       "      <td>Still closed, take little time come shell. But worth wait: there's pepper, zestiness streamlined, structured body. One word comes mind: sleekness. Federspiel Jäger 2013 Wachau (Wachau) Klaus Austria Veltliner Grüner</td>\n",
       "      <td>30</td>\n",
       "      <td>Anne Krebiehl MW</td>\n",
       "      <td>90</td>\n",
       "      <td>9.447909</td>\n",
       "      <td>1.000000</td>\n",
       "      <td>9.447909</td>\n",
       "    </tr>\n",
       "    <tr>\n",
       "      <th>27205</th>\n",
       "      <td>There's reduced quality wine much ado oak, spent time (30% new French). Founder winemaker Mark Lyon owns 122-acre site Sauvignon Blanc blocks date back 1973. A hit jalapeño dominates finish. Vine Sonoma California Valley Alexander Blanc Eco Terreno 2014 Barrel Old (Alexander US Sauvignon Fermented Valley)</td>\n",
       "      <td>22</td>\n",
       "      <td>Virginie Boone</td>\n",
       "      <td>83</td>\n",
       "      <td>9.604145</td>\n",
       "      <td>0.978893</td>\n",
       "      <td>9.401427</td>\n",
       "    </tr>\n",
       "    <tr>\n",
       "      <th>44947</th>\n",
       "      <td>Karl Steininger's winery forms part new Loisium complex wine exhibition hotel Langenlois, designed New York architect Steven Holl (commemorated label). This wine comes adjacent vineyard. It's full, rich style, rounded, creamy apple flavors, touched white currant acidity. Glass stopper. 2007 Loisiumweingarten Steininger (Kamptal) Kamptal Austria Veltliner Grüner</td>\n",
       "      <td>23</td>\n",
       "      <td>Roger Voss</td>\n",
       "      <td>88</td>\n",
       "      <td>9.556070</td>\n",
       "      <td>0.983799</td>\n",
       "      <td>9.401256</td>\n",
       "    </tr>\n",
       "  </tbody>\n",
       "</table>\n",
       "</div>"
      ],
      "text/plain": [
       "                                                                                                                                                                                                                                                                                                                                                                   merged_info_text  \\\n",
       "74215                                       Twelve months bottle aging selection Touriga Nacional Alfrocheiro resulted powerfully structured wine. The wood aging still showing wine's toasty character hints dry extraction spoiling black fruit flavors. The wine integrate better develops, wait 2017. UDACA Sé Portugal Selection Red Dão 2011 Tesouro Private (Dão) Portuguese   \n",
       "25435                                                                                            This small appellation situated south north banks Garonne river near Agen. Using grapes three-year-old vines, wine ripe juicy red fruit flavors, layering acidity gives fresh aftertaste. Drink 2018. Brulhois (Brulhois) Labastide Orliac Château Red Blend Southwest France 2010   \n",
       "100111                                                                                                                                                      Still closed, take little time come shell. But worth wait: there's pepper, zestiness streamlined, structured body. One word comes mind: sleekness. Federspiel Jäger 2013 Wachau (Wachau) Klaus Austria Veltliner Grüner   \n",
       "27205                                                            There's reduced quality wine much ado oak, spent time (30% new French). Founder winemaker Mark Lyon owns 122-acre site Sauvignon Blanc blocks date back 1973. A hit jalapeño dominates finish. Vine Sonoma California Valley Alexander Blanc Eco Terreno 2014 Barrel Old (Alexander US Sauvignon Fermented Valley)   \n",
       "44947   Karl Steininger's winery forms part new Loisium complex wine exhibition hotel Langenlois, designed New York architect Steven Holl (commemorated label). This wine comes adjacent vineyard. It's full, rich style, rounded, creamy apple flavors, touched white currant acidity. Glass stopper. 2007 Loisiumweingarten Steininger (Kamptal) Kamptal Austria Veltliner Grüner   \n",
       "\n",
       "        price       taster-name  points  desc_sim  price_sim  \\\n",
       "74215      26        Roger Voss      89  9.673704   0.994681   \n",
       "25435      30        Roger Voss      90  9.571564   1.000000   \n",
       "100111     30  Anne Krebiehl MW      90  9.447909   1.000000   \n",
       "27205      22    Virginie Boone      83  9.604145   0.978893   \n",
       "44947      23        Roger Voss      88  9.556070   0.983799   \n",
       "\n",
       "        overall_similarity  \n",
       "74215             9.622248  \n",
       "25435             9.571564  \n",
       "100111            9.447909  \n",
       "27205             9.401427  \n",
       "44947             9.401256  "
      ]
     },
     "execution_count": 9,
     "metadata": {},
     "output_type": "execute_result"
    }
   ],
   "source": [
    "print(your_wine_text)\n",
    "df_merged = find_your_wine(df, your_wine_text, df_embeds, text_tranformer, \n",
    "                           your_price, price_importance, similarity_function = \"distance\")\n",
    "top_10_indices = df_merged.index[:10]\n",
    "df_merged[[\"merged_info_text\", \"price\", \"taster-name\", \"points\", \"desc_sim\", \"price_sim\", \"overall_similarity\"\n",
    "          ]].sort_values(\"overall_similarity\", ascending = False).head(5)"
   ]
  },
  {
   "cell_type": "code",
   "execution_count": 10,
   "id": "659cf5cd-83aa-406e-bc48-1a6c594a990d",
   "metadata": {},
   "outputs": [
    {
     "name": "stdout",
     "output_type": "stream",
     "text": [
      "robust red cherry vanilla cinnamon coconut nutmeg.\n",
      "cosine\n"
     ]
    },
    {
     "data": {
      "text/html": [
       "<div>\n",
       "<style scoped>\n",
       "    .dataframe tbody tr th:only-of-type {\n",
       "        vertical-align: middle;\n",
       "    }\n",
       "\n",
       "    .dataframe tbody tr th {\n",
       "        vertical-align: top;\n",
       "    }\n",
       "\n",
       "    .dataframe thead th {\n",
       "        text-align: right;\n",
       "    }\n",
       "</style>\n",
       "<table border=\"1\" class=\"dataframe\">\n",
       "  <thead>\n",
       "    <tr style=\"text-align: right;\">\n",
       "      <th></th>\n",
       "      <th>title</th>\n",
       "      <th>merged_info_text</th>\n",
       "      <th>price</th>\n",
       "      <th>taster-name</th>\n",
       "      <th>points</th>\n",
       "      <th>desc_sim</th>\n",
       "      <th>price_sim</th>\n",
       "      <th>overall_similarity</th>\n",
       "    </tr>\n",
       "  </thead>\n",
       "  <tbody>\n",
       "    <tr>\n",
       "      <th>675</th>\n",
       "      <td>Acacia 2013 Pinot Noir (Carneros)</td>\n",
       "      <td>Smoky cinnamon nutmeg pierce entry wine, dense, full-bodied expression place. Layers rich cherry strawberry lie classic varietal earthiness, finishing medium length. Pinot Napa-Sonoma (Carneros) California 2013 Acacia US Noir Carneros</td>\n",
       "      <td>28</td>\n",
       "      <td>Virginie Boone</td>\n",
       "      <td>90</td>\n",
       "      <td>0.822354</td>\n",
       "      <td>0.998668</td>\n",
       "      <td>0.821258</td>\n",
       "    </tr>\n",
       "    <tr>\n",
       "      <th>20446</th>\n",
       "      <td>Golser Wein 2014 RW Limited Edition Red (Burgenland)</td>\n",
       "      <td>Vanilla cinnamon give fresh, full-fruited red notions plum ripe cherry generous feel. This easy drink easy like, lovely plush mouthfeel medium body. Its fresh core real bonus. Golser 2014 (Burgenland) Red Blend Burgenland Edition RW Limited Austria Austrian Wein</td>\n",
       "      <td>25</td>\n",
       "      <td>Anne Krebiehl MW</td>\n",
       "      <td>88</td>\n",
       "      <td>0.823981</td>\n",
       "      <td>0.991701</td>\n",
       "      <td>0.817143</td>\n",
       "    </tr>\n",
       "    <tr>\n",
       "      <th>119129</th>\n",
       "      <td>Merriam 2011 Windacre Estate Merlot (Russian River Valley)</td>\n",
       "      <td>Spicy cinnamon sultry tropical coconut, wine offers freshness red fruit, true varietal, soft, lean layers body weight. Sonoma Merriam California Valley Estate Valley) US 2011 Merlot River (Russian Windacre Russian</td>\n",
       "      <td>30</td>\n",
       "      <td>Virginie Boone</td>\n",
       "      <td>87</td>\n",
       "      <td>0.806991</td>\n",
       "      <td>1.000000</td>\n",
       "      <td>0.806991</td>\n",
       "    </tr>\n",
       "    <tr>\n",
       "      <th>14493</th>\n",
       "      <td>Hudson Shah 2012 Viognier (Red Mountain)</td>\n",
       "      <td>Aromas lees, apricot, vanilla wheat lead full-bodied fruit cinnamon flavors. It's fleshy feel flavor concentration there. 2012 Valley Viognier Washington Hudson US Red Shah Columbia Mountain (Red Mountain)</td>\n",
       "      <td>30</td>\n",
       "      <td>Sean P. Sullivan</td>\n",
       "      <td>84</td>\n",
       "      <td>0.804625</td>\n",
       "      <td>1.000000</td>\n",
       "      <td>0.804625</td>\n",
       "    </tr>\n",
       "    <tr>\n",
       "      <th>69030</th>\n",
       "      <td>Caernarvon Cellars 1999 Pinot Noir (San Lucas)</td>\n",
       "      <td>Quite rich viscous, full-blown core bright cherry herb flavors. Spice-like cinnamon nutmeg also find expression here, framed soft tannins. Good acidity holds together, finish pleasingly long. Pinot California Cellars Central Lucas San US Noir 1999 (San Coast Lucas) Caernarvon</td>\n",
       "      <td>26</td>\n",
       "      <td></td>\n",
       "      <td>89</td>\n",
       "      <td>0.805438</td>\n",
       "      <td>0.994681</td>\n",
       "      <td>0.801154</td>\n",
       "    </tr>\n",
       "  </tbody>\n",
       "</table>\n",
       "</div>"
      ],
      "text/plain": [
       "                                                             title  \\\n",
       "675                              Acacia 2013 Pinot Noir (Carneros)   \n",
       "20446         Golser Wein 2014 RW Limited Edition Red (Burgenland)   \n",
       "119129  Merriam 2011 Windacre Estate Merlot (Russian River Valley)   \n",
       "14493                     Hudson Shah 2012 Viognier (Red Mountain)   \n",
       "69030               Caernarvon Cellars 1999 Pinot Noir (San Lucas)   \n",
       "\n",
       "                                                                                                                                                                                                                                                                            merged_info_text  \\\n",
       "675                                               Smoky cinnamon nutmeg pierce entry wine, dense, full-bodied expression place. Layers rich cherry strawberry lie classic varietal earthiness, finishing medium length. Pinot Napa-Sonoma (Carneros) California 2013 Acacia US Noir Carneros   \n",
       "20446                 Vanilla cinnamon give fresh, full-fruited red notions plum ripe cherry generous feel. This easy drink easy like, lovely plush mouthfeel medium body. Its fresh core real bonus. Golser 2014 (Burgenland) Red Blend Burgenland Edition RW Limited Austria Austrian Wein   \n",
       "119129                                                                 Spicy cinnamon sultry tropical coconut, wine offers freshness red fruit, true varietal, soft, lean layers body weight. Sonoma Merriam California Valley Estate Valley) US 2011 Merlot River (Russian Windacre Russian   \n",
       "14493                                                                          Aromas lees, apricot, vanilla wheat lead full-bodied fruit cinnamon flavors. It's fleshy feel flavor concentration there. 2012 Valley Viognier Washington Hudson US Red Shah Columbia Mountain (Red Mountain)   \n",
       "69030   Quite rich viscous, full-blown core bright cherry herb flavors. Spice-like cinnamon nutmeg also find expression here, framed soft tannins. Good acidity holds together, finish pleasingly long. Pinot California Cellars Central Lucas San US Noir 1999 (San Coast Lucas) Caernarvon   \n",
       "\n",
       "        price       taster-name  points  desc_sim  price_sim  \\\n",
       "675        28    Virginie Boone      90  0.822354   0.998668   \n",
       "20446      25  Anne Krebiehl MW      88  0.823981   0.991701   \n",
       "119129     30    Virginie Boone      87  0.806991   1.000000   \n",
       "14493      30  Sean P. Sullivan      84  0.804625   1.000000   \n",
       "69030      26                        89  0.805438   0.994681   \n",
       "\n",
       "        overall_similarity  \n",
       "675               0.821258  \n",
       "20446             0.817143  \n",
       "119129            0.806991  \n",
       "14493             0.804625  \n",
       "69030             0.801154  "
      ]
     },
     "execution_count": 10,
     "metadata": {},
     "output_type": "execute_result"
    }
   ],
   "source": [
    "print(your_wine_text)\n",
    "\n",
    "df_merged = find_your_wine(df, your_wine_text, df_embeds, text_tranformer, your_price, \n",
    "                           price_importance, similarity_function = \"cosine\", output_verbose = True)\n",
    "top_10_indices = df_merged.index[:10]\n",
    "df_merged[[\"title\", \"merged_info_text\",  \"price\", \"taster-name\", \"points\", \"desc_sim\", \"price_sim\", \"overall_similarity\"\n",
    "          ]].sort_values(\"overall_similarity\", ascending = False).head(5)"
   ]
  },
  {
   "cell_type": "code",
   "execution_count": null,
   "id": "b70d1841-b00f-4d99-a7e0-d48e3eba47f3",
   "metadata": {},
   "outputs": [],
   "source": []
  },
  {
   "cell_type": "code",
   "execution_count": 11,
   "id": "054629dd-24ec-44bb-bc24-c4a975408665",
   "metadata": {},
   "outputs": [
    {
     "data": {
      "text/plain": [
       "(20, 'refreshing white with orange and peach')"
      ]
     },
     "execution_count": 11,
     "metadata": {},
     "output_type": "execute_result"
    }
   ],
   "source": [
    "your_wine_text = 'refreshing white with orange and peach'\n",
    "price_importance = 0.01\n",
    "your_price = 20\n",
    "your_price, your_wine_text"
   ]
  },
  {
   "cell_type": "code",
   "execution_count": 12,
   "id": "17640d8a-aa7f-487e-9cdd-e6cac68ba8a1",
   "metadata": {},
   "outputs": [
    {
     "name": "stdout",
     "output_type": "stream",
     "text": [
      "refreshing white with orange and peach\n",
      "distance\n"
     ]
    },
    {
     "data": {
      "text/html": [
       "<div>\n",
       "<style scoped>\n",
       "    .dataframe tbody tr th:only-of-type {\n",
       "        vertical-align: middle;\n",
       "    }\n",
       "\n",
       "    .dataframe tbody tr th {\n",
       "        vertical-align: top;\n",
       "    }\n",
       "\n",
       "    .dataframe thead th {\n",
       "        text-align: right;\n",
       "    }\n",
       "</style>\n",
       "<table border=\"1\" class=\"dataframe\">\n",
       "  <thead>\n",
       "    <tr style=\"text-align: right;\">\n",
       "      <th></th>\n",
       "      <th>merged_info_text</th>\n",
       "      <th>price</th>\n",
       "      <th>taster-name</th>\n",
       "      <th>points</th>\n",
       "      <th>desc_sim</th>\n",
       "      <th>price_sim</th>\n",
       "      <th>overall_similarity</th>\n",
       "    </tr>\n",
       "  </thead>\n",
       "  <tbody>\n",
       "    <tr>\n",
       "      <th>55365</th>\n",
       "      <td>All coming Block 95 winery's estate vineyard, beguiling wine complex range notes include caramel, spice, squash cream. It shows excellent balance, length finesse, enjoyment much mouth-feel flavor. Valley Horse Hills) (Horse US 2011 Crest Heaven Reserve Columbia Washington Hills Chardonnay</td>\n",
       "      <td>20</td>\n",
       "      <td>Sean P. Sullivan</td>\n",
       "      <td>91</td>\n",
       "      <td>9.188495</td>\n",
       "      <td>1.000000</td>\n",
       "      <td>9.188495</td>\n",
       "    </tr>\n",
       "    <tr>\n",
       "      <th>59475</th>\n",
       "      <td>Grown clay chalk soil, second wine series three Moinié estate intended medium-term aging. With dark color solid tannins, certainly needs time. However, rich black fruit acidity already show structure. Give 2019, ready drink. Ponzac Patiemment Cahors (Cahors) 2015 Château Southwest France Malbec</td>\n",
       "      <td>23</td>\n",
       "      <td>Roger Voss</td>\n",
       "      <td>90</td>\n",
       "      <td>9.077824</td>\n",
       "      <td>0.995510</td>\n",
       "      <td>9.037065</td>\n",
       "    </tr>\n",
       "    <tr>\n",
       "      <th>27205</th>\n",
       "      <td>There's reduced quality wine much ado oak, spent time (30% new French). Founder winemaker Mark Lyon owns 122-acre site Sauvignon Blanc blocks date back 1973. A hit jalapeño dominates finish. Vine Sonoma California Valley Alexander Blanc Eco Terreno 2014 Barrel Old (Alexander US Sauvignon Fermented Valley)</td>\n",
       "      <td>22</td>\n",
       "      <td>Virginie Boone</td>\n",
       "      <td>83</td>\n",
       "      <td>9.019562</td>\n",
       "      <td>0.998002</td>\n",
       "      <td>9.001541</td>\n",
       "    </tr>\n",
       "    <tr>\n",
       "      <th>53102</th>\n",
       "      <td>Tight linear palate, evolving well $12 wine. Struck flint prominent nose, adding touch Old World character, flavors feature cut grass citrus. It's light bodied, remarkably intense finish. Drink now. (Marlborough) Blanc 2015 Zealand Stoneburn Marlborough Sauvignon New</td>\n",
       "      <td>12</td>\n",
       "      <td>Joe Czerwinski</td>\n",
       "      <td>88</td>\n",
       "      <td>9.288433</td>\n",
       "      <td>0.968507</td>\n",
       "      <td>8.995909</td>\n",
       "    </tr>\n",
       "    <tr>\n",
       "      <th>116109</th>\n",
       "      <td>Controlled nose blackberry, mint, menthol fire. Like 2008, easiest road run, blast penetrating blackberry, boysenberry, heat, spice dark minty length. Tasty tough, roughness quality meeting middle. Drink couple years. Argentina 2007 Cafayate Tannat David Other Torino Don Michel Reserve (Cafayate)</td>\n",
       "      <td>17</td>\n",
       "      <td>Michael Schachner</td>\n",
       "      <td>88</td>\n",
       "      <td>9.025957</td>\n",
       "      <td>0.995510</td>\n",
       "      <td>8.985432</td>\n",
       "    </tr>\n",
       "  </tbody>\n",
       "</table>\n",
       "</div>"
      ],
      "text/plain": [
       "                                                                                                                                                                                                                                                                                                          merged_info_text  \\\n",
       "55365                    All coming Block 95 winery's estate vineyard, beguiling wine complex range notes include caramel, spice, squash cream. It shows excellent balance, length finesse, enjoyment much mouth-feel flavor. Valley Horse Hills) (Horse US 2011 Crest Heaven Reserve Columbia Washington Hills Chardonnay   \n",
       "59475              Grown clay chalk soil, second wine series three Moinié estate intended medium-term aging. With dark color solid tannins, certainly needs time. However, rich black fruit acidity already show structure. Give 2019, ready drink. Ponzac Patiemment Cahors (Cahors) 2015 Château Southwest France Malbec   \n",
       "27205   There's reduced quality wine much ado oak, spent time (30% new French). Founder winemaker Mark Lyon owns 122-acre site Sauvignon Blanc blocks date back 1973. A hit jalapeño dominates finish. Vine Sonoma California Valley Alexander Blanc Eco Terreno 2014 Barrel Old (Alexander US Sauvignon Fermented Valley)   \n",
       "53102                                          Tight linear palate, evolving well $12 wine. Struck flint prominent nose, adding touch Old World character, flavors feature cut grass citrus. It's light bodied, remarkably intense finish. Drink now. (Marlborough) Blanc 2015 Zealand Stoneburn Marlborough Sauvignon New   \n",
       "116109           Controlled nose blackberry, mint, menthol fire. Like 2008, easiest road run, blast penetrating blackberry, boysenberry, heat, spice dark minty length. Tasty tough, roughness quality meeting middle. Drink couple years. Argentina 2007 Cafayate Tannat David Other Torino Don Michel Reserve (Cafayate)   \n",
       "\n",
       "        price        taster-name  points  desc_sim  price_sim  \\\n",
       "55365      20   Sean P. Sullivan      91  9.188495   1.000000   \n",
       "59475      23         Roger Voss      90  9.077824   0.995510   \n",
       "27205      22     Virginie Boone      83  9.019562   0.998002   \n",
       "53102      12     Joe Czerwinski      88  9.288433   0.968507   \n",
       "116109     17  Michael Schachner      88  9.025957   0.995510   \n",
       "\n",
       "        overall_similarity  \n",
       "55365             9.188495  \n",
       "59475             9.037065  \n",
       "27205             9.001541  \n",
       "53102             8.995909  \n",
       "116109            8.985432  "
      ]
     },
     "execution_count": 12,
     "metadata": {},
     "output_type": "execute_result"
    }
   ],
   "source": [
    "print(your_wine_text)\n",
    "df_merged = find_your_wine(df, your_wine_text, df_embeds, text_tranformer, \n",
    "                           your_price, price_importance, similarity_function = \"distance\")\n",
    "top_10_indices = df_merged.index[:10]\n",
    "df_merged[[\"merged_info_text\", \"price\", \"taster-name\", \"points\", \"desc_sim\", \"price_sim\", \"overall_similarity\"\n",
    "          ]].sort_values(\"overall_similarity\", ascending = False).head(5)"
   ]
  },
  {
   "cell_type": "code",
   "execution_count": 13,
   "id": "bab0382c-4c5e-494a-8bd1-8f632d0e2c2c",
   "metadata": {},
   "outputs": [
    {
     "name": "stdout",
     "output_type": "stream",
     "text": [
      "cosine\n"
     ]
    },
    {
     "data": {
      "text/html": [
       "<div>\n",
       "<style scoped>\n",
       "    .dataframe tbody tr th:only-of-type {\n",
       "        vertical-align: middle;\n",
       "    }\n",
       "\n",
       "    .dataframe tbody tr th {\n",
       "        vertical-align: top;\n",
       "    }\n",
       "\n",
       "    .dataframe thead th {\n",
       "        text-align: right;\n",
       "    }\n",
       "</style>\n",
       "<table border=\"1\" class=\"dataframe\">\n",
       "  <thead>\n",
       "    <tr style=\"text-align: right;\">\n",
       "      <th></th>\n",
       "      <th>merged_info_text</th>\n",
       "      <th>price</th>\n",
       "      <th>taster-name</th>\n",
       "      <th>points</th>\n",
       "      <th>desc_sim</th>\n",
       "      <th>price_sim</th>\n",
       "      <th>overall_similarity</th>\n",
       "    </tr>\n",
       "  </thead>\n",
       "  <tbody>\n",
       "    <tr>\n",
       "      <th>17664</th>\n",
       "      <td>Fresh white peach orange blossom aromas waft start finish richly concentrated wine. The palate packed unctuous peach apricot flavors, streak lime acidity zesty citrus pith jolts finish. Nägler (Rheingau) 2013 Spätlese Riesling Rheingau Dr. Rüdesheimer Roseneck Germany Berg</td>\n",
       "      <td>26</td>\n",
       "      <td>Anna Lee C. Iijima</td>\n",
       "      <td>92</td>\n",
       "      <td>0.861072</td>\n",
       "      <td>0.982161</td>\n",
       "      <td>0.845712</td>\n",
       "    </tr>\n",
       "    <tr>\n",
       "      <th>78539</th>\n",
       "      <td>Aromas white peach vanilla highlight rich-textured, rather full-bodied white wine. It's made generous rather crisp style, barrel fermented, buttery lushness defines fairly subtle fruit flavors. Very tasty overall. 2012 Dorado) California Viognier US Fields (El Foothills Four Sierra Dorado El</td>\n",
       "      <td>22</td>\n",
       "      <td>Jim Gordon</td>\n",
       "      <td>89</td>\n",
       "      <td>0.839756</td>\n",
       "      <td>0.998002</td>\n",
       "      <td>0.838079</td>\n",
       "    </tr>\n",
       "    <tr>\n",
       "      <th>25764</th>\n",
       "      <td>Zesty lemon lime aromas add elegance unctuous white peach apricot flavors delicate, yet remarkably complex wine. Off-dry style, balances youthful fruit profile nuanced shades smoke earth. Nervy citrus acidity drives long, focused finish. 2012 Weis St. Mosel Urbans-Hof Germany Riesling Nik Alte Reben Ortswein Wiltinger Feinherb (Mosel) Kabinett</td>\n",
       "      <td>19</td>\n",
       "      <td>Anna Lee C. Iijima</td>\n",
       "      <td>91</td>\n",
       "      <td>0.830858</td>\n",
       "      <td>0.999500</td>\n",
       "      <td>0.830443</td>\n",
       "    </tr>\n",
       "    <tr>\n",
       "      <th>86110</th>\n",
       "      <td>A touch peach colors white green fruit notes zippy white, freshness amplified slight spritz. It's light bodied, dry refreshing, lovely herbal edge palate. Niederösterreich 2016 (Niederösterreich) Jurtschitsch Terrassen Austria Veltliner Grüner</td>\n",
       "      <td>14</td>\n",
       "      <td>Anne Krebiehl MW</td>\n",
       "      <td>90</td>\n",
       "      <td>0.844913</td>\n",
       "      <td>0.982161</td>\n",
       "      <td>0.829841</td>\n",
       "    </tr>\n",
       "    <tr>\n",
       "      <th>4541</th>\n",
       "      <td>Whatever varieties wine, disclosed, soft, ripe simple, orange, peach lime flavors. California Other 2011 Blend US (California) White Austerity</td>\n",
       "      <td>17</td>\n",
       "      <td></td>\n",
       "      <td>82</td>\n",
       "      <td>0.831791</td>\n",
       "      <td>0.995510</td>\n",
       "      <td>0.828056</td>\n",
       "    </tr>\n",
       "  </tbody>\n",
       "</table>\n",
       "</div>"
      ],
      "text/plain": [
       "                                                                                                                                                                                                                                                                                                                                                merged_info_text  \\\n",
       "17664                                                                          Fresh white peach orange blossom aromas waft start finish richly concentrated wine. The palate packed unctuous peach apricot flavors, streak lime acidity zesty citrus pith jolts finish. Nägler (Rheingau) 2013 Spätlese Riesling Rheingau Dr. Rüdesheimer Roseneck Germany Berg   \n",
       "78539                                                       Aromas white peach vanilla highlight rich-textured, rather full-bodied white wine. It's made generous rather crisp style, barrel fermented, buttery lushness defines fairly subtle fruit flavors. Very tasty overall. 2012 Dorado) California Viognier US Fields (El Foothills Four Sierra Dorado El   \n",
       "25764  Zesty lemon lime aromas add elegance unctuous white peach apricot flavors delicate, yet remarkably complex wine. Off-dry style, balances youthful fruit profile nuanced shades smoke earth. Nervy citrus acidity drives long, focused finish. 2012 Weis St. Mosel Urbans-Hof Germany Riesling Nik Alte Reben Ortswein Wiltinger Feinherb (Mosel) Kabinett   \n",
       "86110                                                                                                        A touch peach colors white green fruit notes zippy white, freshness amplified slight spritz. It's light bodied, dry refreshing, lovely herbal edge palate. Niederösterreich 2016 (Niederösterreich) Jurtschitsch Terrassen Austria Veltliner Grüner   \n",
       "4541                                                                                                                                                                                                              Whatever varieties wine, disclosed, soft, ripe simple, orange, peach lime flavors. California Other 2011 Blend US (California) White Austerity   \n",
       "\n",
       "       price         taster-name  points  desc_sim  price_sim  \\\n",
       "17664     26  Anna Lee C. Iijima      92  0.861072   0.982161   \n",
       "78539     22          Jim Gordon      89  0.839756   0.998002   \n",
       "25764     19  Anna Lee C. Iijima      91  0.830858   0.999500   \n",
       "86110     14    Anne Krebiehl MW      90  0.844913   0.982161   \n",
       "4541      17                          82  0.831791   0.995510   \n",
       "\n",
       "       overall_similarity  \n",
       "17664            0.845712  \n",
       "78539            0.838079  \n",
       "25764            0.830443  \n",
       "86110            0.829841  \n",
       "4541             0.828056  "
      ]
     },
     "execution_count": 13,
     "metadata": {},
     "output_type": "execute_result"
    }
   ],
   "source": [
    "\n",
    "df_merged = find_your_wine(df, your_wine_text, df_embeds, text_tranformer, \n",
    "                           your_price, price_importance, similarity_function = \"cosine\")\n",
    "top_10_indices = df_merged.index[:10]\n",
    "df_merged[[\"merged_info_text\", \"price\", \"taster-name\", \"points\", \"desc_sim\", \"price_sim\", \"overall_similarity\"\n",
    "          ]].sort_values(\"overall_similarity\", ascending = False).head(5)"
   ]
  },
  {
   "cell_type": "code",
   "execution_count": null,
   "id": "8eef841b-0aa0-4685-b4f9-a224ac332709",
   "metadata": {},
   "outputs": [],
   "source": []
  },
  {
   "cell_type": "code",
   "execution_count": 14,
   "id": "afc74908-fb65-4fc1-8b3b-5f302e4b33c7",
   "metadata": {},
   "outputs": [
    {
     "data": {
      "text/plain": [
       "(60, 'robust red cherry vanilla cinnamon coconut nutmeg.')"
      ]
     },
     "execution_count": 14,
     "metadata": {},
     "output_type": "execute_result"
    }
   ],
   "source": [
    "your_wine_text = \"robust red cherry vanilla cinnamon coconut nutmeg.\"\n",
    "price_importance = 0.01\n",
    "your_price = 60\n",
    "your_price, your_wine_text"
   ]
  },
  {
   "cell_type": "code",
   "execution_count": 15,
   "id": "1c1dee86-fce8-42a7-a682-a2d7bae87eb8",
   "metadata": {},
   "outputs": [
    {
     "name": "stdout",
     "output_type": "stream",
     "text": [
      "distance\n"
     ]
    },
    {
     "data": {
      "text/html": [
       "<div>\n",
       "<style scoped>\n",
       "    .dataframe tbody tr th:only-of-type {\n",
       "        vertical-align: middle;\n",
       "    }\n",
       "\n",
       "    .dataframe tbody tr th {\n",
       "        vertical-align: top;\n",
       "    }\n",
       "\n",
       "    .dataframe thead th {\n",
       "        text-align: right;\n",
       "    }\n",
       "</style>\n",
       "<table border=\"1\" class=\"dataframe\">\n",
       "  <thead>\n",
       "    <tr style=\"text-align: right;\">\n",
       "      <th></th>\n",
       "      <th>merged_info_text</th>\n",
       "      <th>price</th>\n",
       "      <th>taster-name</th>\n",
       "      <th>points</th>\n",
       "      <th>desc_sim</th>\n",
       "      <th>price_sim</th>\n",
       "      <th>overall_similarity</th>\n",
       "    </tr>\n",
       "  </thead>\n",
       "  <tbody>\n",
       "    <tr>\n",
       "      <th>38538</th>\n",
       "      <td>The large 246-acre estate owned Countess Noemi Cinzano, vermouth family. With Giacomo Tachis consultant, vineyard produced powerful, rich wine combines dryness, bitter fruits dark tannins generous tarry, super-ripe fruit promises come dominate wine ages. Drink 7–8 years. Tuscany Italy Sangiovese Argiano Brunello 1997 Montalcino Tenuta</td>\n",
       "      <td>56</td>\n",
       "      <td>Roger Voss</td>\n",
       "      <td>92</td>\n",
       "      <td>9.813903</td>\n",
       "      <td>0.997337</td>\n",
       "      <td>9.787767</td>\n",
       "    </tr>\n",
       "    <tr>\n",
       "      <th>82450</th>\n",
       "      <td>The new Oregon project John Abbott (ex-Abeja) kicks vineyard selection five-star vintage. A blend fifth leaf Pommard 30-year-old Wädenswil clones, lush aromatic, sporting bold scents flavors ripe raspberry cherry fruit, spine iron. Toasty new barrel accents punch through, clean crisply defined finish. 2012 Pinot Freedom Hill Vineyard Other Devona US Noir Oregon (Oregon)</td>\n",
       "      <td>50</td>\n",
       "      <td>Paul Gregutt</td>\n",
       "      <td>92</td>\n",
       "      <td>9.629883</td>\n",
       "      <td>0.983471</td>\n",
       "      <td>9.470715</td>\n",
       "    </tr>\n",
       "    <tr>\n",
       "      <th>117859</th>\n",
       "      <td>This includes grapes winery's Jerusalem Hill vineyard Eola-Amity Hills AVA, addition Dundee Hills sites, hence general Willamette Valley designation. It aged 65% new French oak 16 months. It's open generous, offering bright berry, cherry red currant fruit matched defining acids, set fine-tuned frame new oak. Re-tasted 24 hours opened, remained fresh, dense satisfying. 2012 Pinot (Willamette Valley Serene Evenstad Willamette US Noir Oregon Reserve Domaine Valley)</td>\n",
       "      <td>70</td>\n",
       "      <td>Paul Gregutt</td>\n",
       "      <td>94</td>\n",
       "      <td>9.600929</td>\n",
       "      <td>0.983471</td>\n",
       "      <td>9.442240</td>\n",
       "    </tr>\n",
       "    <tr>\n",
       "      <th>6450</th>\n",
       "      <td>Here's beautiful interpretation 2008 vintage shows balance, harmony intensity zipped one tight package. That seamless integration, followed rich extraction, gives wine momentum overall. Although different wine past vintages, quality high. Hold 5–10 years. Tuscany Italy Sangiovese Brunello Montalcino 2008 Grosso Uccelliera</td>\n",
       "      <td>65</td>\n",
       "      <td></td>\n",
       "      <td>94</td>\n",
       "      <td>9.465274</td>\n",
       "      <td>0.995842</td>\n",
       "      <td>9.425917</td>\n",
       "    </tr>\n",
       "    <tr>\n",
       "      <th>76398</th>\n",
       "      <td>Coming winery's SJR Vineyard The Rocks District, blockbuster wine displays savory aromas green olive, sea breeze, smoked meat, peat earth along coffee plum. The palate shows great concentration richness also deftness, delineation precision. It's complete head turner shows true sense place. Syrah (OR) 2012 (OR)) Valley Other (Walla US Walla Delmas Oregon</td>\n",
       "      <td>65</td>\n",
       "      <td>Sean P. Sullivan</td>\n",
       "      <td>94</td>\n",
       "      <td>9.433695</td>\n",
       "      <td>0.995842</td>\n",
       "      <td>9.394470</td>\n",
       "    </tr>\n",
       "  </tbody>\n",
       "</table>\n",
       "</div>"
      ],
      "text/plain": [
       "                                                                                                                                                                                                                                                                                                                                                                                                                                                                          merged_info_text  \\\n",
       "38538                                                                                                                                     The large 246-acre estate owned Countess Noemi Cinzano, vermouth family. With Giacomo Tachis consultant, vineyard produced powerful, rich wine combines dryness, bitter fruits dark tannins generous tarry, super-ripe fruit promises come dominate wine ages. Drink 7–8 years. Tuscany Italy Sangiovese Argiano Brunello 1997 Montalcino Tenuta   \n",
       "82450                                                                                                 The new Oregon project John Abbott (ex-Abeja) kicks vineyard selection five-star vintage. A blend fifth leaf Pommard 30-year-old Wädenswil clones, lush aromatic, sporting bold scents flavors ripe raspberry cherry fruit, spine iron. Toasty new barrel accents punch through, clean crisply defined finish. 2012 Pinot Freedom Hill Vineyard Other Devona US Noir Oregon (Oregon)   \n",
       "117859  This includes grapes winery's Jerusalem Hill vineyard Eola-Amity Hills AVA, addition Dundee Hills sites, hence general Willamette Valley designation. It aged 65% new French oak 16 months. It's open generous, offering bright berry, cherry red currant fruit matched defining acids, set fine-tuned frame new oak. Re-tasted 24 hours opened, remained fresh, dense satisfying. 2012 Pinot (Willamette Valley Serene Evenstad Willamette US Noir Oregon Reserve Domaine Valley)   \n",
       "6450                                                                                                                                                   Here's beautiful interpretation 2008 vintage shows balance, harmony intensity zipped one tight package. That seamless integration, followed rich extraction, gives wine momentum overall. Although different wine past vintages, quality high. Hold 5–10 years. Tuscany Italy Sangiovese Brunello Montalcino 2008 Grosso Uccelliera   \n",
       "76398                                                                                                                  Coming winery's SJR Vineyard The Rocks District, blockbuster wine displays savory aromas green olive, sea breeze, smoked meat, peat earth along coffee plum. The palate shows great concentration richness also deftness, delineation precision. It's complete head turner shows true sense place. Syrah (OR) 2012 (OR)) Valley Other (Walla US Walla Delmas Oregon   \n",
       "\n",
       "        price       taster-name  points  desc_sim  price_sim  \\\n",
       "38538      56        Roger Voss      92  9.813903   0.997337   \n",
       "82450      50      Paul Gregutt      92  9.629883   0.983471   \n",
       "117859     70      Paul Gregutt      94  9.600929   0.983471   \n",
       "6450       65                        94  9.465274   0.995842   \n",
       "76398      65  Sean P. Sullivan      94  9.433695   0.995842   \n",
       "\n",
       "        overall_similarity  \n",
       "38538             9.787767  \n",
       "82450             9.470715  \n",
       "117859            9.442240  \n",
       "6450              9.425917  \n",
       "76398             9.394470  "
      ]
     },
     "execution_count": 15,
     "metadata": {},
     "output_type": "execute_result"
    }
   ],
   "source": [
    "\n",
    "df_merged = find_your_wine(df, your_wine_text, df_embeds, text_tranformer, \n",
    "                           your_price, price_importance, similarity_function = \"distance\")\n",
    "top_10_indices = df_merged.index[:10]\n",
    "df_merged[[\"merged_info_text\", \"price\", \"taster-name\", \"points\", \"desc_sim\", \"price_sim\", \"overall_similarity\"\n",
    "          ]].sort_values(\"overall_similarity\", ascending = False).head(5)"
   ]
  },
  {
   "cell_type": "code",
   "execution_count": 16,
   "id": "1f2f3141-fd7c-4787-8407-9233cade504e",
   "metadata": {},
   "outputs": [
    {
     "name": "stdout",
     "output_type": "stream",
     "text": [
      "robust red cherry vanilla cinnamon coconut nutmeg.\n",
      "cosine\n"
     ]
    },
    {
     "data": {
      "text/html": [
       "<div>\n",
       "<style scoped>\n",
       "    .dataframe tbody tr th:only-of-type {\n",
       "        vertical-align: middle;\n",
       "    }\n",
       "\n",
       "    .dataframe tbody tr th {\n",
       "        vertical-align: top;\n",
       "    }\n",
       "\n",
       "    .dataframe thead th {\n",
       "        text-align: right;\n",
       "    }\n",
       "</style>\n",
       "<table border=\"1\" class=\"dataframe\">\n",
       "  <thead>\n",
       "    <tr style=\"text-align: right;\">\n",
       "      <th></th>\n",
       "      <th>merged_info_text</th>\n",
       "      <th>price</th>\n",
       "      <th>taster-name</th>\n",
       "      <th>points</th>\n",
       "      <th>desc_sim</th>\n",
       "      <th>price_sim</th>\n",
       "      <th>overall_similarity</th>\n",
       "    </tr>\n",
       "  </thead>\n",
       "  <tbody>\n",
       "    <tr>\n",
       "      <th>104654</th>\n",
       "      <td>This bottling iconic vineyard subtle yet steady nose, cinnamon nutmeg spice giving character red-cherry base. The vibrant palate keeps mouth watering, showing clove nutmeg atop sharper cranberry warmer cherry fruit tones. Pinot California Valley 2014 Tantara Talley Central Rincon US Noir (Arroyo Coast Arroyo Valley) Grande</td>\n",
       "      <td>65</td>\n",
       "      <td>Matt Kettmann</td>\n",
       "      <td>91</td>\n",
       "      <td>0.800796</td>\n",
       "      <td>0.995842</td>\n",
       "      <td>0.797466</td>\n",
       "    </tr>\n",
       "    <tr>\n",
       "      <th>40353</th>\n",
       "      <td>A dash spicy oak suggests nutmeg cinnamon aroma well-balanced, rich flavorful wine. Cherry, red currant touches mint cedar fill palate, texture firm enough, fine tannins great balance. Pinot California Valley 2013 Anderson US Noir La Crema Valley) (Anderson</td>\n",
       "      <td>50</td>\n",
       "      <td>Jim Gordon</td>\n",
       "      <td>92</td>\n",
       "      <td>0.809349</td>\n",
       "      <td>0.983471</td>\n",
       "      <td>0.795972</td>\n",
       "    </tr>\n",
       "    <tr>\n",
       "      <th>30925</th>\n",
       "      <td>Unctuous mango peach flavors accented hints candle wax dried herbs delicate intensely concentrated Riesling. Silky sweet texture, brightened streaks orange acidity touches saffron lemon peel linger finish. Jakob Auslese (Rheingau) Oestrich Kühn Peter Riesling 2011 Rheingau Germany Lenchen</td>\n",
       "      <td>65</td>\n",
       "      <td>Anna Lee C. Iijima</td>\n",
       "      <td>91</td>\n",
       "      <td>0.795324</td>\n",
       "      <td>0.995842</td>\n",
       "      <td>0.792017</td>\n",
       "    </tr>\n",
       "    <tr>\n",
       "      <th>76130</th>\n",
       "      <td>Decadent aromas cherry candy vanilla cookies emerge blend 55% Carignane, 22% Zinfandel, 12% Cab Franc (all three estate) 11% Syrah (from Coast View Vineyard Monterey). The jammy palate similarly rich, bordering sweet, cherry compote, ripe cranberries, vanilla charred meats. California Montmarte Cruz Central (Santa Mountains) Savannah-Chanelle US Red Blend 2009 Coast Mountains Santa</td>\n",
       "      <td>60</td>\n",
       "      <td>Matt Kettmann</td>\n",
       "      <td>88</td>\n",
       "      <td>0.791768</td>\n",
       "      <td>1.000000</td>\n",
       "      <td>0.791768</td>\n",
       "    </tr>\n",
       "    <tr>\n",
       "      <th>89973</th>\n",
       "      <td>Cocoa, nutmeg cinnamon aromas, generous broad fruit flavors like blackberry jam dried black cherries fill full-bodied wine. The silky texture backed fine tannins, lingering finish echoes fruit chocolaty spices. Syrah California Other 2011 US Effect Conoscenti (California) Galatea</td>\n",
       "      <td>65</td>\n",
       "      <td>Jim Gordon</td>\n",
       "      <td>89</td>\n",
       "      <td>0.795010</td>\n",
       "      <td>0.995842</td>\n",
       "      <td>0.791704</td>\n",
       "    </tr>\n",
       "  </tbody>\n",
       "</table>\n",
       "</div>"
      ],
      "text/plain": [
       "                                                                                                                                                                                                                                                                                                                                                                                        merged_info_text  \\\n",
       "104654                                                              This bottling iconic vineyard subtle yet steady nose, cinnamon nutmeg spice giving character red-cherry base. The vibrant palate keeps mouth watering, showing clove nutmeg atop sharper cranberry warmer cherry fruit tones. Pinot California Valley 2014 Tantara Talley Central Rincon US Noir (Arroyo Coast Arroyo Valley) Grande   \n",
       "40353                                                                                                                                  A dash spicy oak suggests nutmeg cinnamon aroma well-balanced, rich flavorful wine. Cherry, red currant touches mint cedar fill palate, texture firm enough, fine tannins great balance. Pinot California Valley 2013 Anderson US Noir La Crema Valley) (Anderson   \n",
       "30925                                                                                                  Unctuous mango peach flavors accented hints candle wax dried herbs delicate intensely concentrated Riesling. Silky sweet texture, brightened streaks orange acidity touches saffron lemon peel linger finish. Jakob Auslese (Rheingau) Oestrich Kühn Peter Riesling 2011 Rheingau Germany Lenchen   \n",
       "76130   Decadent aromas cherry candy vanilla cookies emerge blend 55% Carignane, 22% Zinfandel, 12% Cab Franc (all three estate) 11% Syrah (from Coast View Vineyard Monterey). The jammy palate similarly rich, bordering sweet, cherry compote, ripe cranberries, vanilla charred meats. California Montmarte Cruz Central (Santa Mountains) Savannah-Chanelle US Red Blend 2009 Coast Mountains Santa   \n",
       "89973                                                                                                           Cocoa, nutmeg cinnamon aromas, generous broad fruit flavors like blackberry jam dried black cherries fill full-bodied wine. The silky texture backed fine tannins, lingering finish echoes fruit chocolaty spices. Syrah California Other 2011 US Effect Conoscenti (California) Galatea   \n",
       "\n",
       "        price         taster-name  points  desc_sim  price_sim  \\\n",
       "104654     65       Matt Kettmann      91  0.800796   0.995842   \n",
       "40353      50          Jim Gordon      92  0.809349   0.983471   \n",
       "30925      65  Anna Lee C. Iijima      91  0.795324   0.995842   \n",
       "76130      60       Matt Kettmann      88  0.791768   1.000000   \n",
       "89973      65          Jim Gordon      89  0.795010   0.995842   \n",
       "\n",
       "        overall_similarity  \n",
       "104654            0.797466  \n",
       "40353             0.795972  \n",
       "30925             0.792017  \n",
       "76130             0.791768  \n",
       "89973             0.791704  "
      ]
     },
     "execution_count": 16,
     "metadata": {},
     "output_type": "execute_result"
    }
   ],
   "source": [
    "print(your_wine_text)\n",
    "df_merged = find_your_wine(df, your_wine_text, df_embeds, text_tranformer, \n",
    "                           your_price, price_importance, similarity_function = \"cosine\")\n",
    "top_10_indices = df_merged.index[:10]\n",
    "df_merged[[\"merged_info_text\", \"price\", \"taster-name\", \"points\", \"desc_sim\", \"price_sim\", \"overall_similarity\"\n",
    "          ]].sort_values(\"overall_similarity\", ascending = False).head(5)"
   ]
  },
  {
   "cell_type": "code",
   "execution_count": null,
   "id": "df2f228e-e113-44c1-93e9-ec2236d8a188",
   "metadata": {},
   "outputs": [],
   "source": []
  },
  {
   "cell_type": "markdown",
   "id": "eab87f2a-07d1-47fa-b0d2-407e8fdc2d80",
   "metadata": {},
   "source": [
    "# Impact on price importance factor"
   ]
  },
  {
   "cell_type": "code",
   "execution_count": 18,
   "id": "6dd2e529-6338-4fb0-9be5-5cc0c8ab7fc9",
   "metadata": {},
   "outputs": [
    {
     "data": {
      "image/png": "[encoded data removed]",
      "text/plain": [
       "<Figure size 800x800 with 1 Axes>"
      ]
     },
     "metadata": {},
     "output_type": "display_data"
    }
   ],
   "source": [
    "wine_of_interest_price = 33\n",
    "prices = range(-wine_of_interest_price, wine_of_interest_price * 10)\n",
    "plt.figure(figsize = (8,8))\n",
    "plt.plot([wine_of_interest_price, wine_of_interest_price], [0, 1.2], ls = \"--\", label = \"reference wine price\", color = 'black')\n",
    "plt.title(\"Price similarity dependence on price_important factor: \\n The larger price_importance is, the wider is the spread of price_similarity\")\n",
    "for price_importance in [1, 1e-1, 1e-2, 1e-3, 1e-4]:\n",
    "    prices_sims = []\n",
    "    for price in prices:\n",
    "        prices_sims.append(np.exp(-np.square(wine_of_interest_price - price)*price_importance/wine_of_interest_price))\n",
    "    plt.plot(prices, prices_sims, marker=\".\", ls = '-', label = \"price_importance = \" + str(price_importance)) \n",
    "    # plt.scatter(prices, prices_sims, marker = '.', '--')\n",
    "plt.xlabel(\"wine price ($)\")\n",
    "plt.ylabel(\"similarity\")\n",
    "plt.grid()\n",
    "plt.ylim(0,1.1)\n",
    "plt.xlim(0,300)\n",
    "plt.legend()\n",
    "plt.savefig(\"images/price_similarity_impact.png\", format=\"png\")\n",
    "plt.show()"
   ]
  },
  {
   "cell_type": "markdown",
   "id": "88837b47-326c-4d9b-b8b9-861495255114",
   "metadata": {},
   "source": [
    "## An example of how text and price similarities leads to overall similarity\n",
    "## desc_sim * price_sim = overall_similarity"
   ]
  },
  {
   "cell_type": "code",
   "execution_count": 21,
   "id": "73cf6f75-3512-47d4-9e2b-0312b7099c1a",
   "metadata": {},
   "outputs": [
    {
     "data": {
      "image/png": "[encoded data removed]",
      "text/plain": [
       "<Figure size 640x480 with 1 Axes>"
      ]
     },
     "metadata": {},
     "output_type": "display_data"
    }
   ],
   "source": [
    "step = 0.01\n",
    "features = [\"desc_sim\", \"price_sim\", \"overall_similarity\"]\n",
    "colors = ['blue', 'red', 'brown']\n",
    "plot_params = [x for x in zip(features, colors)]\n",
    "plt.title(\"Distribution of Similarities: desc_sim * price_sim = overall_similarity\")\n",
    "for plot_param in plot_params[:2]:\n",
    "    feature, color = plot_param \n",
    "    plt.hist(df_merged[feature], 50, alpha = 0.3, label = feature, color = color, density = True)\n",
    "feature, color = plot_params[2] \n",
    "plt.hist(df_merged[feature], 50, alpha = 0.8, label = feature, color = color, density = True)\n",
    "plt.legend()\n",
    "plt.xlabel(\"similarity\")\n",
    "plt.ylabel(\"occurrence\")\n",
    "plt.show()"
   ]
  },
  {
   "cell_type": "code",
   "execution_count": null,
   "id": "c98af22d-c161-4f24-8798-f4ef9bbefa36",
   "metadata": {},
   "outputs": [],
   "source": []
  },
  {
   "cell_type": "code",
   "execution_count": null,
   "id": "ec1d8482-7c8c-4071-b8ae-9de1535996d9",
   "metadata": {},
   "outputs": [],
   "source": []
  }
 ],
 "metadata": {
  "kernelspec": {
   "display_name": "Python 3 (ipykernel)",
   "language": "python",
   "name": "python3"
  },
  "language_info": {
   "codemirror_mode": {
    "name": "ipython",
    "version": 3
   },
   "file_extension": ".py",
   "mimetype": "text/x-python",
   "name": "python",
   "nbconvert_exporter": "python",
   "pygments_lexer": "ipython3",
   "version": "3.12.4"
  }
 },
 "nbformat": 4,
 "nbformat_minor": 5
}
